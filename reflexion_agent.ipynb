{
 "cells": [
  {
   "cell_type": "code",
   "execution_count": 1,
   "metadata": {},
   "outputs": [],
   "source": [
    "import datetime\n",
    "from dotenv import load_dotenv, find_dotenv\n",
    "load_dotenv(find_dotenv(),override=True)\n",
    "\n",
    "from langchain_core.output_parsers.openai_tools import JsonOutputToolsParser, PydanticToolsParser\n",
    "from langchain_core.messages import HumanMessage\n",
    "from langchain_core.prompts import ChatPromptTemplate, MessagesPlaceholder\n",
    "from langchain_openai import AzureChatOpenAI"
   ]
  },
  {
   "cell_type": "code",
   "execution_count": 2,
   "metadata": {},
   "outputs": [],
   "source": [
    "actor_prompt_template = ChatPromptTemplate.from_messages(\n",
    "    [\n",
    "        (\n",
    "            \"system\",\n",
    "            \"\"\"\n",
    "            You are expert researcher.\n",
    "            Current time : {time}\n",
    "            1.{first_instruction}\n",
    "            2.Reflect and critique your answer. Be severe to maximize improvements.\n",
    "            3.Recommend search queries to research information and improve your answer.\n",
    "            \"\"\",\n",
    "        ),\n",
    "        MessagesPlaceholder(variable_name=\"messages\"),\n",
    "        (\"system\", \"Answer the user's question above using the required format.\")\n",
    "    ]\n",
    ").partial(time = lambda : datetime.datetime.now().isoformat())"
   ]
  },
  {
   "cell_type": "code",
   "execution_count": 3,
   "metadata": {},
   "outputs": [],
   "source": [
    "llm = AzureChatOpenAI(\n",
    "        azure_deployment=\"gpt-4o-mini\",  # or your deployment\n",
    "        api_version=\"2023-03-15-preview\",  # or your api version\n",
    "        temperature=0)"
   ]
  },
  {
   "cell_type": "code",
   "execution_count": 4,
   "metadata": {},
   "outputs": [
    {
     "name": "stderr",
     "output_type": "stream",
     "text": [
      "C:\\Users\\vinay\\AppData\\Local\\Packages\\PythonSoftwareFoundation.Python.3.11_qbz5n2kfra8p0\\LocalCache\\local-packages\\Python311\\site-packages\\IPython\\core\\interactiveshell.py:3577: LangChainDeprecationWarning: As of langchain-core 0.3.0, LangChain uses pydantic v2 internally. The langchain_core.pydantic_v1 module was a compatibility shim for pydantic v1, and should no longer be used. Please update the code to import from Pydantic directly.\n",
      "\n",
      "For example, replace imports like: `from langchain_core.pydantic_v1 import BaseModel`\n",
      "with: `from pydantic import BaseModel`\n",
      "or the v1 compatibility namespace if you are working in a code base that has not been fully upgraded to pydantic 2 yet. \tfrom pydantic.v1 import BaseModel\n",
      "\n",
      "  exec(code_obj, self.user_global_ns, self.user_ns)\n"
     ]
    }
   ],
   "source": [
    "from typing import List\n",
    "from langchain_core.pydantic_v1 import BaseModel, Field\n",
    "\n",
    "\n",
    "class Reflection(BaseModel):\n",
    "    missing: str = Field(description=\"Critique of what is missing.\")\n",
    "    superfluous: str = Field(description=\"Critique of what is superfluous\")\n",
    "    \n",
    "    \n",
    "class AnQ(BaseModel):\n",
    "    answer : str = Field(description=\"~250 word detailed answer to the question.\")\n",
    "    reflection : Reflection = Field(description=\"Your reflection on the initial answer.\")\n",
    "    search_queries : List[str] = Field(\n",
    "        description = \"1-3 search queries for researching improvements to address the critique of your current answer.\"\n",
    "    )\n",
    "    "
   ]
  },
  {
   "cell_type": "code",
   "execution_count": 5,
   "metadata": {},
   "outputs": [],
   "source": [
    "parser = JsonOutputToolsParser(return_id=True)\n",
    "parser_pydantic = PydanticToolsParser(tools=[AnQ])"
   ]
  },
  {
   "cell_type": "code",
   "execution_count": 6,
   "metadata": {},
   "outputs": [],
   "source": [
    "first_responder_prompt_template = actor_prompt_template.partial(\n",
    "    first_instruction = \"Provide a detailed ~250 word answer.\"\n",
    ")\n",
    "\n",
    "first_responder = first_responder_prompt_template| llm.bind_tools(\n",
    "    tools=[AnQ], tool_choice=\"AnQ\"\n",
    ")\n",
    "\n"
   ]
  },
  {
   "cell_type": "code",
   "execution_count": 7,
   "metadata": {},
   "outputs": [
    {
     "name": "stdout",
     "output_type": "stream",
     "text": [
      "[AnQ(answer='LangGraph is a framework designed to facilitate the development and deployment of language models and natural language processing (NLP) applications. Its architecture is built around several key components that work together to streamline the process of building language-based applications.\\n\\n### Main Components of LangGraph:\\n1. **Graph Structure**: At its core, LangGraph utilizes a graph-based structure to represent relationships between different language elements. This allows for efficient querying and manipulation of language data.\\n\\n2. **Language Models**: LangGraph integrates various pre-trained language models, enabling users to leverage state-of-the-art NLP capabilities without needing extensive expertise in machine learning.\\n\\n3. **APIs and SDKs**: The framework provides robust APIs and software development kits (SDKs) that allow developers to easily interact with the underlying models and graph structures, facilitating seamless integration into existing applications.\\n\\n4. **Visualization Tools**: LangGraph includes visualization components that help users understand the relationships and structures within their language data, making it easier to debug and optimize their applications.\\n\\n5. **Data Ingestion and Processing**: It supports various data formats and sources, allowing users to ingest and preprocess text data efficiently.\\n\\n### Use Cases:\\n- **Chatbots and Virtual Assistants**: LangGraph can be used to build intelligent chatbots that understand and respond to user queries effectively.\\n- **Content Recommendation Systems**: By analyzing user interactions and preferences, LangGraph can help recommend relevant content.\\n- **Sentiment Analysis**: Businesses can utilize LangGraph to analyze customer feedback and social media interactions to gauge public sentiment.\\n- **Text Summarization**: It can be employed to create concise summaries of large documents, enhancing information accessibility.\\n\\nOverall, LangGraph serves as a powerful tool for developers looking to harness the capabilities of language models in various applications.', reflection=Reflection(missing='The answer could benefit from more specific examples of language models integrated within LangGraph, as well as a deeper exploration of the technical aspects of the graph structure.', superfluous='Some details about the visualization tools may be overly general and could be replaced with more concrete examples of how they are used in practice.'), search_queries=['LangGraph architecture', 'LangGraph use cases', 'LangGraph components', 'LangGraph language models', 'LangGraph applications in NLP'])]\n"
     ]
    }
   ],
   "source": [
    "human_msg = HumanMessage(\n",
    "    content=\"write about langgraph. Main components of langgraph.\"\n",
    "    \"Please mention usecases as well\"\n",
    ")\n",
    "\n",
    "chain = first_responder | parser_pydantic\n",
    "\n",
    "res = chain.invoke(input = {\"messages\":[human_msg]})\n",
    "print(res)"
   ]
  },
  {
   "cell_type": "code",
   "execution_count": 8,
   "metadata": {},
   "outputs": [],
   "source": [
    "class ReviseAns(AnQ):\n",
    "    answer : str = Field(description=\"~250 word detailed answer to the question.\")\n",
    "    reflection : Reflection = Field(description=\"Your reflection on the initial answer.\")\n",
    "    search_queries : List[str] = Field(\n",
    "        description = \"1-3 search queries for researching improvements to address the critique of your current answer.\"\n",
    "    )"
   ]
  },
  {
   "cell_type": "code",
   "execution_count": 9,
   "metadata": {},
   "outputs": [],
   "source": [
    "revise_instruction = \"\"\"\n",
    "                    Revise your previous answer using the new information.\n",
    "                    - You should use the previous critique to add important information to your answer.\n",
    "                    - You MUST include numerical citations in your revised answer to esnure it can be verified.\n",
    "                    - Add a \"References\" section to the bottom of your answer (which does not count towards the word limit.)\n",
    "                    - You should use the previous critique to remove superfluous information from your answer and make sure it is not more than 250 words.\n",
    "                    \"\"\"\n",
    "\n",
    "revisor = actor_prompt_template.partial(\n",
    "    first_instruction = revise_instruction\n",
    ")| llm.bind_tools(\n",
    "    tools=[ReviseAns], tool_choice=\"ReviseAns\"\n",
    ")"
   ]
  },
  {
   "cell_type": "code",
   "execution_count": 10,
   "metadata": {},
   "outputs": [],
   "source": [
    "from langchain_core.messages import BaseMessage, ToolMessage, AIMessage\n",
    "from langgraph.prebuilt import ToolInvocation, ToolExecutor\n",
    "  \n",
    "\n",
    "answer = AnQ(\n",
    "    answer=\"\",\n",
    "    reflection=Reflection(missing=\"\", superfluous=\"\"),\n",
    "    search_queries=[\n",
    "        \"LangGraph architecture\", \"LangGraph components and features\", \"applications of language models in industry\"\n",
    "    ],\n",
    "    id = \"call_xyz\",\n",
    ")"
   ]
  },
  {
   "cell_type": "code",
   "execution_count": 11,
   "metadata": {},
   "outputs": [
    {
     "name": "stderr",
     "output_type": "stream",
     "text": [
      "C:\\Users\\vinay\\AppData\\Local\\Temp\\ipykernel_8144\\3995445223.py:7: LangGraphDeprecationWarning: ToolExecutor is deprecated as of version 0.2.0 and will be removed in 0.3.0. Use langgraph.prebuilt.ToolNode instead.\n",
      "  tool_executor = ToolExecutor([tavily_tools])\n"
     ]
    }
   ],
   "source": [
    "from langchain_community.tools.tavily_search import TavilySearchResults\n",
    "from langchain_community.utilities.tavily_search import TavilySearchAPIWrapper\n",
    "\n",
    "search = TavilySearchAPIWrapper()\n",
    "tavily_tools = TavilySearchResults(api_wrapper =search, max_results = 5)\n",
    "\n",
    "tool_executor = ToolExecutor([tavily_tools])"
   ]
  },
  {
   "cell_type": "code",
   "execution_count": 12,
   "metadata": {},
   "outputs": [],
   "source": [
    "from collections import defaultdict\n",
    "import json\n",
    "\n",
    "def execute_tools(state : List[BaseMessage]) -> List[ToolMessage]:\n",
    "    tools_invocation : AIMessage = state[-1]\n",
    "    parsed_tool_calls = parser.invoke(tools_invocation)\n",
    "    \n",
    "    ids = []\n",
    "    tool_invocations = []\n",
    "    \n",
    "    for parsed_call in parsed_tool_calls:\n",
    "        for query in parsed_call[\"args\"][\"search_queries\"]:\n",
    "            tool_invocations.append(ToolInvocation(\n",
    "                tool = \"tavily_search_results_json\",\n",
    "                tool_input = query,\n",
    "            ))\n",
    "            ids.append(parsed_call[\"id\"]) \n",
    "            \n",
    "    outputs = tool_executor.batch(tool_invocations)\n",
    "    outputs_map = defaultdict(dict)\n",
    "    for id_, output, invocation in zip(ids, outputs, tool_invocations):\n",
    "        outputs_map[id_][invocation.tool_input] = output\n",
    "        \n",
    "    tool_messages = []\n",
    "    for id_, mapped_output in outputs_map.items():\n",
    "        tool_messages.append(ToolMessage(content = json.dumps(mapped_output), tool_call_id=id_))\n",
    "\n",
    "    return tool_messages"
   ]
  },
  {
   "cell_type": "code",
   "execution_count": 13,
   "metadata": {},
   "outputs": [
    {
     "name": "stderr",
     "output_type": "stream",
     "text": [
      "C:\\Users\\vinay\\AppData\\Local\\Temp\\ipykernel_8144\\3970788705.py:13: LangGraphDeprecationWarning: ToolInvocation is deprecated as of version 0.2.0 and will be removed in 0.3.0. Use langgraph.prebuilt.ToolNode instead.\n",
      "  tool_invocations.append(ToolInvocation(\n"
     ]
    }
   ],
   "source": [
    "raw_res = execute_tools(\n",
    "    state=[\n",
    "        human_msg,\n",
    "        AIMessage(\n",
    "            content = \"\",\n",
    "            tool_calls = [\n",
    "                {\n",
    "                    \"name\" : AnQ.__name__,\n",
    "                    \"args\" : answer.dict(),\n",
    "                    \"id\" : \"call_xyz\"\n",
    "                }\n",
    "            ]\n",
    "        )\n",
    "    ]\n",
    ")"
   ]
  },
  {
   "cell_type": "code",
   "execution_count": 14,
   "metadata": {},
   "outputs": [
    {
     "data": {
      "text/plain": [
       "[ToolMessage(content='{\"LangGraph architecture\": [{\"url\": \"https://www.datacamp.com/tutorial/langgraph-tutorial\", \"content\": \"LangGraph is a library within the LangChain ecosystem designed to tackle these challenges head-on. LangGraph provides a framework for defining, coordinating, and executing multiple LLM agents (or chains) in a structured manner. ... Its robust architecture can handle a high volume of interactions and complex workflows, enabling the development ...\"}, {\"url\": \"https://github.com/langchain-ai/langgraph\", \"content\": \"Overview. LangGraph is a library for building stateful, multi-actor applications with LLMs, used to create agent and multi-agent workflows. Compared to other LLM frameworks, it offers these core benefits: cycles, controllability, and persistence. LangGraph allows you to define flows that involve cycles, essential for most agentic architectures ...\"}, {\"url\": \"https://langchain-ai.github.io/langgraph/\", \"content\": \"Overview. LangGraph is a library for building stateful, multi-actor applications with LLMs, used to create agent and multi-agent workflows. Compared to other LLM frameworks, it offers these core benefits: cycles, controllability, and persistence. LangGraph allows you to define flows that involve cycles, essential for most agentic architectures ...\"}, {\"url\": \"https://www.langchain.com/langgraph\", \"content\": \"Controllable cognitive architecture for any task. LangGraph\\'s flexible API supports diverse control flows - single agent, multi-agent, hierarchical, sequential - and robustly handles realistic, complex scenarios. Ensure reliability with easy-to-add moderation and quality loops that prevent agents from veering off course.\"}, {\"url\": \"https://medium.com/@lucas.dahan/hands-on-langgraph-building-a-multi-agent-assistant-06aa68ed942f\", \"content\": \"However, LangGraph\\'s allows for the integration of various models, parameters, and tasks within each agent. ... architecture. With possibilities to ensure more consistent, relevant and safe ...\"}], \"LangGraph components and features\": [{\"url\": \"https://langchain-ai.github.io/langgraph/\", \"content\": \"LangGraph is built by LangChain Inc, the creators of LangChain, but can be used without LangChain. To learn more about LangGraph, check out our first LangChain Academy course, Introduction to LangGraph, available for free here. Key Features\\\\u00b6 Cycles and Branching: Implement loops and conditionals in your apps.\"}, {\"url\": \"https://github.com/langchain-ai/langgraph\", \"content\": \"LangGraph is a library for creating stateful, multi-actor applications with LLMs, inspired by Pregel and Apache Beam. It offers cycles, controllability, persistence, human-in-the-loop, and streaming features, and integrates with LangChain and LangSmith.\"}, {\"url\": \"https://towardsdatascience.com/from-basics-to-advanced-exploring-langgraph-e8c1cf4db787\", \"content\": \"LangGraph, however, takes a different approach. While CrewAI is a high-level framework with many predefined features and ready-to-use components, LangGraph operates at a lower level, offering extensive customization and control. With that introduction, let\\'s dive into the fundamental concepts of LangGraph. LangGraph basics\"}, {\"url\": \"https://blog.futuresmart.ai/langgraph-tutorial-for-beginners\", \"content\": \"By representing workflows as cyclical graphs, LangGraph allows developers to orchestrate the interactions of multiple LLM agents, ensuring smooth communication and efficient execution of complex tasks. from langgraph.graph.message import add_messages You can expand upon this by incorporating more sophisticated state management and different LLM models or by connecting to external tools and APIs. The key is to define clear nodes for different tasks and use edges to establish the desired flow of information and control within the chatbot. from langgraph.graph.message import add_messages graph_builder.add_edge(\\\\\"tools\\\\\", \\\\\"chatbot\\\\\") Loop Back: After executing the tool, use graph_builder.add_edge() to direct the flow back to the chatbot node, allowing the conversation to continue. from langgraph.graph.message import add_messages graph_builder.add_edge(\\\\\"tools\\\\\", \\\\\"chatbot\\\\\")\"}, {\"url\": \"https://www.langchain.com/langgraph\", \"content\": \"LangGraph is a framework for building stateful, multi-actor agents with LLMs that can handle complex scenarios and collaborate with humans. Learn how to use LangGraph with Python or JavaScript, deploy it with LangGraph Cloud, and see examples from real-world use cases.\"}], \"applications of language models in industry\": [{\"url\": \"https://www.cognite.com/en/resources/analyst-reports/verdantix-ten-applications-of-large-language-models-for-industry\", \"content\": \"Verdantix Market insight: 10 applications of large language models for industry. Advances in data management and machine learning techniques have become rocket fuel for AI development. In this report, Verdantix highlights the potential of large language models (LLMs), first brought to the mainstream by OpenAI\\'s ChatGPT, and how data ...\"}, {\"url\": \"https://www.weforum.org/agenda/2024/04/why-large-language-models-are-so-important-for-the-future-of-the-manufacturing-industry/\", \"content\": \"Large Language Models (LLMs) are set to change the manufacturing industry forever by acting as a conversational gateway between humans and machines. Large Language Models are set to disrupt industries the world over. For manufacturing, they will bridge potential knowledge gaps and manage databases that humans could not.\"}, {\"url\": \"https://www.fieldbox.ai/the-power-of-llm-in-the-industry/\", \"content\": \"The graph below (adapted from an earlier version published in 2021 on HuggingFace blog) illustrates the impressive and exponential growth of model size:\\\\nDemystifying Large Language Models: How They Work and Why They Matter\\\\nAt the heart of Large Language Models (LLMs) lies the ability to detect and learn patterns in huge volumes of textual data. It\\\\u2019s been fueled by the rapid and exponential expansion of available data and by the spread of the good results obtained with the\\\\u00a0 Transformer architecture, a particular kind of Deep Learning model that was pioneered in 2017 (with the publication by Google Brain of the article \\\\u201cAttention is all you need\\\\u201c).\\\\n Harnessing large language models to improve industrial operations\\\\nThe flexibility and predictive capabilities of large language models (LLMs) open the way to a wide range of industrial use cases, revolutionizing operations and offering substantial efficiency gains:\\\\n These generative capabilities give Large Language Models the ability to adapt to a variety of tasks:\\\\nWith these multifaceted capabilities, Large Language Models are uniquely positioned to offer an array of solutions across industries.\\\\n Unleashing the Power of Large Language Models in the Industry: A Guide for Business Leaders\\\\n\\\\u201cChatGPT is going to be in everything,\\\\u201d said General Motors\\\\u2019s Vice President Scott Miller in an interview to Reuters last March.\\\\n\"}, {\"url\": \"https://www.techopedia.com/12-practical-large-language-model-llm-applications\", \"content\": \"12 Best LLM Applications. 1. Translation With Language Models. One of the simplest practical applications for LLMs is to translate written texts. A user can enter text into a chatbot and ask it to translate into another language, and the solution will automatically begin translating the text. Some studies have suggested that LLMs like GPT-4 ...\"}, {\"url\": \"https://www.verdantix.com/report/market-insight-ten-applications-of-large-language-models-for-industry\", \"content\": \"View Net Zero & Climate Risk research\\\\nVerdantix operational excellence research includes an annual survey of more than 250 operations managers, software product benchmarks and coverage of emerging technologies such as real-time risk controls, digital twins and IIoT.\\\\nView Operational Excellence research\\\\nOur Risk Management research supports corporate decision-makers, software and service vendor leadership teams, insurers and consultants specializing in risk-related areas, and investors of all types.\\\\n View Smart Buildings research\\\\nMarket Insight: Ten Applications Of Large Language Models For Industry\\\\nAccess this research\\\\nPlease choose an option below\\\\nExecutive Summary\\\\nTable of contents\\\\nTable of figures\\\\nOrganisations mentioned\\\\nAbout the authors\\\\nJoe is an Industry Analyst in the Verdantix Operational Excellence practice. Related Reports\\\\nGlobal Corporate Survey 2023: Operational Excellence Budgets, Priorities And Tec\\\\u2026\\\\nThis report provides senior managers in operations, engineering, maintenance, process safety, and data science and IT roles who are responsible for operational excellence with a benchmark of peers&rsq\\\\u2026\\\\nViewport.ai Delivers A Knowledge Management System With Rich Integrations For Eu\\\\u2026\\\\nThis report explores the offerings of Viewport.ai, an industrial data and knowledge management platform software provider. Based on the proprietary Verdantix Green Quadrant methodo\\\\u2026\\\\nNot a Verdantix client yet?\\\\nRegister with Verdantix for authoritative data, analysis and advice to allow your business to succeed.\\\\n We deliver on this mission by conducting in-depth research on the full range of services and technologies required to succeed with ESG and sustainability strategies.\\\\n\"}]}', tool_call_id='call_xyz')]"
      ]
     },
     "execution_count": 14,
     "metadata": {},
     "output_type": "execute_result"
    }
   ],
   "source": [
    "from pprint import pprint\n",
    "\n",
    "raw_res"
   ]
  },
  {
   "cell_type": "code",
   "execution_count": 15,
   "metadata": {},
   "outputs": [],
   "source": [
    "from typing import List\n",
    "from langchain_core.messages import BaseMessage, ToolMessage\n",
    "from langgraph.graph import END, MessageGraph\n"
   ]
  },
  {
   "cell_type": "code",
   "execution_count": 16,
   "metadata": {},
   "outputs": [
    {
     "data": {
      "text/plain": [
       "<langgraph.graph.message.MessageGraph at 0x28642259050>"
      ]
     },
     "execution_count": 16,
     "metadata": {},
     "output_type": "execute_result"
    }
   ],
   "source": [
    "MAX_ITERATIONS=2\n",
    "builder = MessageGraph()\n",
    "builder.add_node(\"draft\", first_responder)\n",
    "builder.add_node(\"execute_tools\",execute_tools)\n",
    "builder.add_node(\"revise\", revisor)\n",
    "builder.add_edge(\"draft\", \"execute_tools\")\n",
    "builder.add_edge(\"execute_tools\", \"revise\")\n"
   ]
  },
  {
   "cell_type": "code",
   "execution_count": 17,
   "metadata": {},
   "outputs": [],
   "source": [
    "def event_loop(state:List[BaseMessage]) -> str:\n",
    "    count_tool_visits = sum(isinstance(item, ToolMessage) for item in state)\n",
    "    num_iterations = count_tool_visits\n",
    "    if num_iterations > MAX_ITERATIONS:\n",
    "        return END\n",
    "    return \"execute_tools\""
   ]
  },
  {
   "cell_type": "code",
   "execution_count": 18,
   "metadata": {},
   "outputs": [
    {
     "data": {
      "text/plain": [
       "<langgraph.graph.message.MessageGraph at 0x28642259050>"
      ]
     },
     "execution_count": 18,
     "metadata": {},
     "output_type": "execute_result"
    }
   ],
   "source": [
    "builder.add_conditional_edges(\"revise\", event_loop)\n",
    "builder.set_entry_point(\"draft\")"
   ]
  },
  {
   "cell_type": "code",
   "execution_count": 19,
   "metadata": {},
   "outputs": [
    {
     "data": {
      "text/html": [
       "\n",
       "        <div class=\"mermaid-44aa95b2-3728-4d5e-8e7c-7346810d0c22\"></div>\n",
       "        <script type=\"module\">\n",
       "            import mermaid from 'https://cdn.jsdelivr.net/npm/mermaid@10.1.0/+esm'\n",
       "            const graphDefinition = '%%{init: {\"flowchart\": {\"curve\": \"linear\"}}}%%\\ngraph TD;\\n\t__start__([<p>__start__</p>]):::first\\n\tdraft(draft)\\n\texecute_tools(execute_tools)\\n\trevise(revise)\\n\t__end__([<p>__end__</p>]):::last\\n\t__start__ --> draft;\\n\tdraft --> execute_tools;\\n\texecute_tools --> revise;\\n\trevise -.-> draft;\\n\trevise -.-> execute_tools;\\n\trevise -.-> __end__;\\n\tclassDef default fill:#f2f0ff,line-height:1.2\\n\tclassDef first fill-opacity:0\\n\tclassDef last fill:#bfb6fc\\n';\n",
       "            const element = document.querySelector('.mermaid-44aa95b2-3728-4d5e-8e7c-7346810d0c22');\n",
       "            const { svg } = await mermaid.render('graphDiv-44aa95b2-3728-4d5e-8e7c-7346810d0c22', graphDefinition);\n",
       "            element.innerHTML = svg;\n",
       "        </script>\n",
       "        "
      ],
      "text/plain": [
       "<mermaid.mermaid.Mermaid at 0x286229dc690>"
      ]
     },
     "execution_count": 19,
     "metadata": {},
     "output_type": "execute_result"
    }
   ],
   "source": [
    "from mermaid import Mermaid\n",
    "graph = builder.compile()\n",
    "Mermaid(graph.get_graph().draw_mermaid())"
   ]
  },
  {
   "cell_type": "code",
   "execution_count": 20,
   "metadata": {},
   "outputs": [
    {
     "name": "stderr",
     "output_type": "stream",
     "text": [
      "C:\\Users\\vinay\\AppData\\Local\\Temp\\ipykernel_8144\\3970788705.py:13: LangGraphDeprecationWarning: ToolInvocation is deprecated as of version 0.2.0 and will be removed in 0.3.0. Use langgraph.prebuilt.ToolNode instead.\n",
      "  tool_invocations.append(ToolInvocation(\n",
      "C:\\Users\\vinay\\AppData\\Local\\Temp\\ipykernel_8144\\3970788705.py:13: LangGraphDeprecationWarning: ToolInvocation is deprecated as of version 0.2.0 and will be removed in 0.3.0. Use langgraph.prebuilt.ToolNode instead.\n",
      "  tool_invocations.append(ToolInvocation(\n",
      "C:\\Users\\vinay\\AppData\\Local\\Temp\\ipykernel_8144\\3970788705.py:13: LangGraphDeprecationWarning: ToolInvocation is deprecated as of version 0.2.0 and will be removed in 0.3.0. Use langgraph.prebuilt.ToolNode instead.\n",
      "  tool_invocations.append(ToolInvocation(\n"
     ]
    }
   ],
   "source": [
    "res = graph.invoke(\"Write a instagram post caption for trip photos from meghalaya vacation\")"
   ]
  },
  {
   "cell_type": "code",
   "execution_count": 21,
   "metadata": {},
   "outputs": [
    {
     "name": "stdout",
     "output_type": "stream",
     "text": [
      "Whole Result Object - [HumanMessage(content='Write a instagram post caption for trip photos from meghalaya vacation', additional_kwargs={}, response_metadata={}, id='b81750ce-50ef-457e-b109-d7ed5fa892f0'), AIMessage(content='', additional_kwargs={'tool_calls': [{'id': 'call_3SGNEg3PPtNF1w749Qw0DiPg', 'function': {'arguments': '{\"answer\":\"🌄✨ Just returned from an unforgettable adventure in Meghalaya! From the breathtaking hills to the mesmerizing waterfalls, every moment was a postcard come to life. 💚💦 Exploring the living root bridges was like stepping into a fairy tale, and the vibrant local culture added so much richness to our journey. 🏞️🌿 Can\\'t wait to share more memories from this beautiful state! #MeghalayaDiaries #NatureLovers #TravelGoals #Wanderlust\",\"reflection\":{\"missing\":\"The caption could include more personal anecdotes or specific experiences to make it more relatable and engaging.\",\"superfluous\":\"Some emojis may be excessive; a more streamlined use could enhance readability.\"},\"search_queries\":[\"best Instagram captions for travel\",\"how to write engaging travel captions\",\"Meghalaya travel experiences\"]}', 'name': 'AnQ'}, 'type': 'function'}], 'refusal': None}, response_metadata={'token_usage': {'completion_tokens': 162, 'prompt_tokens': 226, 'total_tokens': 388, 'completion_tokens_details': None, 'prompt_tokens_details': None}, 'model_name': 'gpt-4o-mini', 'system_fingerprint': 'fp_878413d04d', 'finish_reason': 'stop', 'logprobs': None, 'content_filter_results': {}}, id='run-33e28aee-fb5a-4369-8123-68d34b2f0eef-0', tool_calls=[{'name': 'AnQ', 'args': {'answer': \"🌄✨ Just returned from an unforgettable adventure in Meghalaya! From the breathtaking hills to the mesmerizing waterfalls, every moment was a postcard come to life. 💚💦 Exploring the living root bridges was like stepping into a fairy tale, and the vibrant local culture added so much richness to our journey. 🏞️🌿 Can't wait to share more memories from this beautiful state! #MeghalayaDiaries #NatureLovers #TravelGoals #Wanderlust\", 'reflection': {'missing': 'The caption could include more personal anecdotes or specific experiences to make it more relatable and engaging.', 'superfluous': 'Some emojis may be excessive; a more streamlined use could enhance readability.'}, 'search_queries': ['best Instagram captions for travel', 'how to write engaging travel captions', 'Meghalaya travel experiences']}, 'id': 'call_3SGNEg3PPtNF1w749Qw0DiPg', 'type': 'tool_call'}], usage_metadata={'input_tokens': 226, 'output_tokens': 162, 'total_tokens': 388, 'input_token_details': {}, 'output_token_details': {}}), ToolMessage(content='{\"best Instagram captions for travel\": [{\"url\": \"https://www.thediaryofanomad.com/best-travel-captions-for-instagram/\", \"content\": \"Here are some more best Instagram captions for traveling \\\\u2014 short, catchy, and classic sayings that will inspire wanderlust. These IG travel captions are also perfect for beach and vacation shots. My favorite thing is to go where I\\'ve never been. Born to roam. Everywhere is home. Keep calm and travel on.\"}, {\"url\": \"https://www.adamenfroy.com/travel-instagram-captions\", \"content\": \"Here are the top adventure travel captions to use in your Instagram profile as an adventure seeker: Chasing horizons and dreams. \\\\ud83c\\\\udf04. Adventures are the best way to learn. \\\\ud83d\\\\udcda. Wander where the Wi-Fi is weak. \\\\ud83c\\\\udf32. Seek adventures that open your mind. \\\\ud83d\\\\udd13.\"}, {\"url\": \"https://www.adventureinyou.com/travel-tips/travel-captions-for-instagram/\", \"content\": \"If you want to keep it short and sweet with your travel caption for Instagram, give these one-liners a go. 1. Always take the scenic route. 2. Paradise called, and I answered. 3. Wander often, wonder always. 4. Discovering the world, little by little.\"}, {\"url\": \"https://www.travelandleisure.com/photography/best-travel-vacation-instagram-captions\", \"content\": \"105 Vacation Captions for Your Next Travel-inspired Instagram Post. Enhance your best travel photos with these clever quotes and funny lines \\\\u2014 perfect for any destination.\"}, {\"url\": \"https://thetravelingmoore.com/travelling-captions-for-instagram/\", \"content\": \"57. Concrete jungle adventures. 58. Finding magic in the city\\'s chaos. 59. In a city full of stories, I\\'m writing my own.\\\\\". 60. Every city has a soul; I\\'m here to discover it. 300 City Instagram Captions for Travel Photos and Videos.\"}], \"how to write engaging travel captions\": [{\"url\": \"https://litlatitudes.com/solo-travel-captions-for-instagram/\", \"content\": \"In essence, if you want to write engaging solo travel captions for Instagram, the purpose of your captions should be absolutely clear in your mind. Step 3: Craft a Compelling Opening. Grab your audience\\'s attention right from the start. Use captivating hooks, a thought-provoking question, a bold statement, or a relatable anecdote.\"}, {\"url\": \"https://asktotalk.com/travel-captions-for-instagram/\", \"content\": \"Humorous Travel Captions. Injecting humor into your travel captions can make your posts more relatable and engaging. A funny caption can capture your followers\\' attention and make them smile. \\\\\"I need six months of vacation, twice a year.\\\\\". \\\\\"I\\'m on a seafood diet. I see food and I eat it.\\\\\". A touch of humor can make your travel ...\"}, {\"url\": \"https://sarahscoop.com/travel-quotes-for-instagram/\", \"content\": \"Here are more inspiring travel captions: \\\\\"Embrace the unknown and let your wanderlust guide you.\\\\\". \\\\\"Discovering new horizons fuels the soul\\'s desire for adventure.\\\\\". \\\\\"Traveling opens our eyes to the beauty of diversity and unity.\\\\\". \\\\\"Every journey is a chance to learn, grow, and become a better version of ourselves.\\\\\".\"}, {\"url\": \"https://www.adamenfroy.com/travel-instagram-captions\", \"content\": \"Here are the top adventure travel captions to use in your Instagram profile as an adventure seeker: Chasing horizons and dreams. \\\\ud83c\\\\udf04. Adventures are the best way to learn. \\\\ud83d\\\\udcda. Wander where the Wi-Fi is weak. \\\\ud83c\\\\udf32. Seek adventures that open your mind. \\\\ud83d\\\\udd13.\"}, {\"url\": \"https://thetravelingmoore.com/travelling-captions-for-instagram/\", \"content\": \"300 City Instagram Captions for Travel Photos and Videos. Short Captions About Nature. 61. Follow the call of the wild. 62. Chasing sunsets. 63. Lost in paradise. 64. Find me where the wild things are. 65. Explore the beauty of the world. 66. Into the wild I go, losing my way, finding my soul. 67. The best views come after the hardest climbs. 68.\"}], \"Meghalaya travel experiences\": [{\"url\": \"https://mountainsandmahals.com/meghalaya-itinerary/\", \"content\": \"Meghalaya is a unique travel destination with lots of hidden gems and beautiful landscapes to explore. There\\'s so many amazing places, landmarks, and historical sites to see in Meghalaya. TL;DR: Best Meghalaya Itinerary: 1 week and 10 day. Whether you have one week or more in Meghalaya, nature lovers and adventure seekers will have plenty to ...\"}, {\"url\": \"https://www.tripadvisor.com/Attractions-g297657-Activities-Meghalaya.html\", \"content\": \"Things to Do in Meghalaya, India: See Tripadvisor\\'s 36,290 traveler reviews and photos of Meghalaya tourist attractions. ... Must-do experiences in Meghalaya. Book these experiences for a close-up look at Meghalaya. See all. 6D/5N Assam & Meghalaya. 42. 4WD Tours. ... Opt for weekend travel from Shillong, as heavy trucks are restricted ...\"}, {\"url\": \"https://www.holidify.com/pages/meghalaya-itinerary-6771.html\", \"content\": \"Book This Package. This eight-day itinerary provides a perfect blend of natural wonders, cultural experiences, and serene landscapes. From the bustling city of Guwahati to the tranquil village of Mawlynnong, each destination offers a unique glimpse into the beauty and diversity of Meghalaya. Whether it\\'s the living root bridges of Cherrapunji ...\"}, {\"url\": \"https://thefloatingpebbles.com/meghalaya-a-7-day-itinerary/\", \"content\": \"Table of Contents. Day 1: Reaching Meghalaya and exploring the monoliths. Day 2: Visiting the Living Root Bridge of Kudeng Rim. Day 3: Exploring waterfalls in and around Jowai. Day 4: Exploring Rangthylliang and Reaching Sohra. Day 5: Scouting the caves and waterfalls of Sohra. Day 6: Experiencing monsoon Meghalaya.\"}, {\"url\": \"https://theetlrblog.com/a-7-day-travel-itinerary-meghalaya-india/\", \"content\": \"Day 5 : Nongriat - Cherrapunjee - Dawki - Mawlynnong. Day 6 : Mawlynnong - Shillong. Day 7 : Shillong - Guwahati & Fly out. I hope you enjoyed going through this 7 Day Meghalaya Travel Itinerary, and found it as a useful Travel Resource for your One Week Trip to Meghalaya - The Abode of Clouds.\"}]}', id='fc17ca24-ccba-4d92-a614-ffe695c9f895', tool_call_id='call_3SGNEg3PPtNF1w749Qw0DiPg'), AIMessage(content='', additional_kwargs={'tool_calls': [{'id': 'call_nnK4Ck3wANNUE4moTVSvGl02', 'function': {'arguments': '{\"answer\":\"🌄✨ Just back from an unforgettable trip to Meghalaya! From the stunning hills to the enchanting waterfalls, every moment felt like a dream. 💚💦 The living root bridges were a highlight, showcasing nature\\'s artistry. Exploring local culture and savoring traditional food made this journey even more special. Can\\'t wait to share more memories from this beautiful state! #MeghalayaDiaries #NatureLovers #TravelGoals\",\"reflection\":{\"missing\":\"The revised caption lacks specific personal experiences or anecdotes that could enhance relatability.\",\"superfluous\":\"Some emojis were removed to streamline the caption, making it more focused.\"},\"search_queries\":[\"best Instagram captions for travel\",\"how to write engaging travel captions\",\"Meghalaya travel experiences\"]}', 'name': 'ReviseAns'}, 'type': 'function'}], 'refusal': None}, response_metadata={'token_usage': {'completion_tokens': 149, 'prompt_tokens': 2000, 'total_tokens': 2149, 'completion_tokens_details': None, 'prompt_tokens_details': None}, 'model_name': 'gpt-4o-mini', 'system_fingerprint': 'fp_878413d04d', 'finish_reason': 'stop', 'logprobs': None, 'content_filter_results': {}}, id='run-6110793e-16ae-4340-bb86-71831d5e0d9e-0', tool_calls=[{'name': 'ReviseAns', 'args': {'answer': \"🌄✨ Just back from an unforgettable trip to Meghalaya! From the stunning hills to the enchanting waterfalls, every moment felt like a dream. 💚💦 The living root bridges were a highlight, showcasing nature's artistry. Exploring local culture and savoring traditional food made this journey even more special. Can't wait to share more memories from this beautiful state! #MeghalayaDiaries #NatureLovers #TravelGoals\", 'reflection': {'missing': 'The revised caption lacks specific personal experiences or anecdotes that could enhance relatability.', 'superfluous': 'Some emojis were removed to streamline the caption, making it more focused.'}, 'search_queries': ['best Instagram captions for travel', 'how to write engaging travel captions', 'Meghalaya travel experiences']}, 'id': 'call_nnK4Ck3wANNUE4moTVSvGl02', 'type': 'tool_call'}], usage_metadata={'input_tokens': 2000, 'output_tokens': 149, 'total_tokens': 2149, 'input_token_details': {}, 'output_token_details': {}}), ToolMessage(content='{\"best Instagram captions for travel\": [{\"url\": \"https://www.thediaryofanomad.com/best-travel-captions-for-instagram/\", \"content\": \"Here are some more best Instagram captions for traveling \\\\u2014 short, catchy, and classic sayings that will inspire wanderlust. These IG travel captions are also perfect for beach and vacation shots. My favorite thing is to go where I\\'ve never been. Born to roam. Everywhere is home. Keep calm and travel on.\"}, {\"url\": \"https://www.adamenfroy.com/travel-instagram-captions\", \"content\": \"Here are the top adventure travel captions to use in your Instagram profile as an adventure seeker: Chasing horizons and dreams. \\\\ud83c\\\\udf04. Adventures are the best way to learn. \\\\ud83d\\\\udcda. Wander where the Wi-Fi is weak. \\\\ud83c\\\\udf32. Seek adventures that open your mind. \\\\ud83d\\\\udd13.\"}, {\"url\": \"https://www.adventureinyou.com/travel-tips/travel-captions-for-instagram/\", \"content\": \"If you want to keep it short and sweet with your travel caption for Instagram, give these one-liners a go. 1. Always take the scenic route. 2. Paradise called, and I answered. 3. Wander often, wonder always. 4. Discovering the world, little by little.\"}, {\"url\": \"https://www.travelandleisure.com/photography/best-travel-vacation-instagram-captions\", \"content\": \"105 Vacation Captions for Your Next Travel-inspired Instagram Post. Enhance your best travel photos with these clever quotes and funny lines \\\\u2014 perfect for any destination.\"}, {\"url\": \"https://thetravelingmoore.com/travelling-captions-for-instagram/\", \"content\": \"57. Concrete jungle adventures. 58. Finding magic in the city\\'s chaos. 59. In a city full of stories, I\\'m writing my own.\\\\\". 60. Every city has a soul; I\\'m here to discover it. 300 City Instagram Captions for Travel Photos and Videos.\"}], \"how to write engaging travel captions\": [{\"url\": \"https://www.adventureinyou.com/travel-tips/travel-captions-for-instagram/\", \"content\": \"If you want to keep it short and sweet with your travel caption for Instagram, give these one-liners a go. 1. Always take the scenic route. 2. Paradise called, and I answered. 3. Wander often, wonder always. 4. Discovering the world, little by little.\"}, {\"url\": \"https://www.adamenfroy.com/travel-instagram-captions\", \"content\": \"Here are the top adventure travel captions to use in your Instagram profile as an adventure seeker: Chasing horizons and dreams. \\\\ud83c\\\\udf04. Adventures are the best way to learn. \\\\ud83d\\\\udcda. Wander where the Wi-Fi is weak. \\\\ud83c\\\\udf32. Seek adventures that open your mind. \\\\ud83d\\\\udd13.\"}, {\"url\": \"https://thetravelingmoore.com/travelling-captions-for-instagram/\", \"content\": \"300 City Instagram Captions for Travel Photos and Videos. Short Captions About Nature. 61. Follow the call of the wild. 62. Chasing sunsets. 63. Lost in paradise. 64. Find me where the wild things are. 65. Explore the beauty of the world. 66. Into the wild I go, losing my way, finding my soul. 67. The best views come after the hardest climbs. 68.\"}, {\"url\": \"https://www.beach.com/tips/creative-travel-captions-for-instagram/\", \"content\": \"Travel Captions for Instagram on Friendship. 26. \\\\\"A journey is best measured in friends, rather than miles.\\\\\". \\\\u2014 Tim Cahill. 27. \\\\\"Friends that travel together stay together.\\\\\". 28. \\\\\"When traveling life\\'s journey, it\\'s good to have a friend\\'s hand to hold on to.\\\\\". \\\\u2014 Unknown.\"}, {\"url\": \"https://www.goodhousekeeping.com/life/travel/a28917249/travel-instagram-captions/\", \"content\": \"Danielle Carson. \\\\\"Travel brings power and love back into your life.\\\\\" \\\\u2014 Rumi Jalalud-Din. \\\\\"Adventure is worthwhile.\\\\\" \\\\u2014 Aesop. \\\\\"Travel makes one modest. You see what a tiny place you occupy in ...\"}], \"Meghalaya travel experiences\": [{\"url\": \"https://www.meghalayatourism.in/itineraries/\", \"content\": \"Discover Meghalaya\\'s natural habitats and urban areas on a 7-day tour. Experience the local flora and fauna of the State and visit the city of Shillong. Take day-long treks to explore significant cultural sites of Meghalaya. MORE INFO. Explore Meghalaya with curated itineraries by Meghalaya Tourism. Plan your perfect journey, discover key ...\"}, {\"url\": \"https://mountainsandmahals.com/meghalaya-itinerary/\", \"content\": \"Meghalaya is a unique travel destination with lots of hidden gems and beautiful landscapes to explore. There\\'s so many amazing places, landmarks, and historical sites to see in Meghalaya. TL;DR: Best Meghalaya Itinerary: 1 week and 10 day. Whether you have one week or more in Meghalaya, nature lovers and adventure seekers will have plenty to ...\"}, {\"url\": \"https://www.tripadvisor.com/Attractions-g297657-Activities-Meghalaya.html\", \"content\": \"Things to Do in Meghalaya, India: See Tripadvisor\\'s 36,287 traveler reviews and photos of Meghalaya tourist attractions. ... Must-do experiences in Meghalaya. Book these experiences for a close-up look at Meghalaya. See all. 6D/5N Assam & Meghalaya. 42. 4WD Tours. ... Opt for weekend travel from Shillong, as heavy trucks are restricted ...\"}, {\"url\": \"https://www.holidify.com/pages/meghalaya-itinerary-6771.html\", \"content\": \"Book This Package. This eight-day itinerary provides a perfect blend of natural wonders, cultural experiences, and serene landscapes. From the bustling city of Guwahati to the tranquil village of Mawlynnong, each destination offers a unique glimpse into the beauty and diversity of Meghalaya. Whether it\\'s the living root bridges of Cherrapunji ...\"}, {\"url\": \"https://thefloatingpebbles.com/meghalaya-a-7-day-itinerary/\", \"content\": \"Table of Contents. Day 1: Reaching Meghalaya and exploring the monoliths. Day 2: Visiting the Living Root Bridge of Kudeng Rim. Day 3: Exploring waterfalls in and around Jowai. Day 4: Exploring Rangthylliang and Reaching Sohra. Day 5: Scouting the caves and waterfalls of Sohra. Day 6: Experiencing monsoon Meghalaya.\"}]}', id='f58b7e43-06e4-458f-bb26-aaa73288b4d7', tool_call_id='call_nnK4Ck3wANNUE4moTVSvGl02'), AIMessage(content='', additional_kwargs={'tool_calls': [{'id': 'call_CrqCuQiSfziq5j9iqxnDOKef', 'function': {'arguments': '{\"answer\":\"🌄✨ Just back from an unforgettable trip to Meghalaya! From the stunning hills to the enchanting waterfalls, every moment felt like a dream. 💚💦 The living root bridges were a highlight, showcasing nature\\'s artistry. Exploring local culture and savoring traditional food made this journey even more special. Can\\'t wait to share more memories from this beautiful state! #MeghalayaDiaries #NatureLovers #TravelGoals\",\"reflection\":{\"missing\":\"The revised caption lacks specific personal experiences or anecdotes that could enhance relatability.\",\"superfluous\":\"Some emojis were removed to streamline the caption, making it more focused.\"},\"search_queries\":[\"best Instagram captions for travel\",\"how to write engaging travel captions\",\"Meghalaya travel experiences\"]}', 'name': 'ReviseAns'}, 'type': 'function'}], 'refusal': None}, response_metadata={'token_usage': {'completion_tokens': 149, 'prompt_tokens': 3644, 'total_tokens': 3793, 'completion_tokens_details': None, 'prompt_tokens_details': None}, 'model_name': 'gpt-4o-mini', 'system_fingerprint': 'fp_878413d04d', 'finish_reason': 'stop', 'logprobs': None, 'content_filter_results': {}}, id='run-2a891b63-a74a-429c-a722-da5678a8c500-0', tool_calls=[{'name': 'ReviseAns', 'args': {'answer': \"🌄✨ Just back from an unforgettable trip to Meghalaya! From the stunning hills to the enchanting waterfalls, every moment felt like a dream. 💚💦 The living root bridges were a highlight, showcasing nature's artistry. Exploring local culture and savoring traditional food made this journey even more special. Can't wait to share more memories from this beautiful state! #MeghalayaDiaries #NatureLovers #TravelGoals\", 'reflection': {'missing': 'The revised caption lacks specific personal experiences or anecdotes that could enhance relatability.', 'superfluous': 'Some emojis were removed to streamline the caption, making it more focused.'}, 'search_queries': ['best Instagram captions for travel', 'how to write engaging travel captions', 'Meghalaya travel experiences']}, 'id': 'call_CrqCuQiSfziq5j9iqxnDOKef', 'type': 'tool_call'}], usage_metadata={'input_tokens': 3644, 'output_tokens': 149, 'total_tokens': 3793, 'input_token_details': {}, 'output_token_details': {}}), ToolMessage(content='{\"best Instagram captions for travel\": [{\"url\": \"https://www.thediaryofanomad.com/best-travel-captions-for-instagram/\", \"content\": \"\\\\ud83c\\\\udf1f Best Travelling Captions Instagram. The best Instagram captions for travel pics are short, catchy, and memorable. The following cheeky traveller captions can be paired with a variety of travel shots to grab your audience\\'s attention. Take only memories, leave only footprints. I haven\\'t been everywhere, but it\\'s on my list.\"}, {\"url\": \"https://www.thepioneerwoman.com/just-for-fun/a43960596/travel-captions/\", \"content\": \"100 Travel Instagram Captions That Are Perfect for All Your Adventures. ... Best Travel Captions. Ree Drummond. Take only pictures, leave only footprints. Here\\'s to the next stamp on my passport! Travel more, worry less. Let the adventure begin! Born to roam. On the road again!\"}, {\"url\": \"https://www.girlwiththepassport.com/best-travel-captions-for-instagram/\", \"content\": \"Either way, this insane list of the best travel captions for Instagram will be perfect for you and is sure to ignite a thirst for adventure in anyone looking for some awesome travel Instagram captions. 79. \\\\\"Life is dangerous if you take risks but meaningless if you don\\'t. So chase your dreams, conquer your fears, and climb that goddamn ...\"}, {\"url\": \"https://www.adamenfroy.com/travel-instagram-captions\", \"content\": \"What Are The Best Travel Instagram Captions? Here are the best travel Instagram captions to share those special moments with your audience. Adventure Seekers. Here are the top adventure travel captions to use in your Instagram profile as an adventure seeker: Chasing horizons and dreams. \\\\ud83c\\\\udf04; Adventures are the best way to learn. \\\\ud83d\\\\udcda\"}, {\"url\": \"https://thetravelingmoore.com/travelling-captions-for-instagram/\", \"content\": \"Romantic Travel Instagram Captions. 111. Let\\'s get lost together. 112. Our love story: written in the places we\\'ve been. 113. Exploring the world hand in hand with my love. ... Summary of this List of The Best Travel Captions for Instagram. If you\\'re still wondering what to caption your Instagram post, I don\\'t know what to tell you! ...\"}], \"how to write engaging travel captions\": [{\"url\": \"https://sarahscoop.com/travel-quotes-for-instagram/\", \"content\": \"Here are more inspiring travel captions: \\\\\"Embrace the unknown and let your wanderlust guide you.\\\\\". \\\\\"Discovering new horizons fuels the soul\\'s desire for adventure.\\\\\". \\\\\"Traveling opens our eyes to the beauty of diversity and unity.\\\\\". \\\\\"Every journey is a chance to learn, grow, and become a better version of ourselves.\\\\\".\"}, {\"url\": \"https://www.adventureinyou.com/travel-tips/travel-captions-for-instagram/\", \"content\": \"If you want to keep it short and sweet with your travel caption for Instagram, give these one-liners a go. 1. Always take the scenic route. 2. Paradise called, and I answered. 3. Wander often, wonder always. 4. Discovering the world, little by little.\"}, {\"url\": \"https://www.adamenfroy.com/travel-instagram-captions\", \"content\": \"Here are the top adventure travel captions to use in your Instagram profile as an adventure seeker: Chasing horizons and dreams. \\\\ud83c\\\\udf04. Adventures are the best way to learn. \\\\ud83d\\\\udcda. Wander where the Wi-Fi is weak. \\\\ud83c\\\\udf32. Seek adventures that open your mind. \\\\ud83d\\\\udd13.\"}, {\"url\": \"https://www.beach.com/tips/creative-travel-captions-for-instagram/\", \"content\": \"Travel Captions for Instagram on Friendship. 26. \\\\\"A journey is best measured in friends, rather than miles.\\\\\". \\\\u2014 Tim Cahill. 27. \\\\\"Friends that travel together stay together.\\\\\". 28. \\\\\"When traveling life\\'s journey, it\\'s good to have a friend\\'s hand to hold on to.\\\\\". \\\\u2014 Unknown.\"}, {\"url\": \"https://www.goodhousekeeping.com/life/travel/a28917249/travel-instagram-captions/\", \"content\": \"Danielle Carson. \\\\\"Travel brings power and love back into your life.\\\\\" \\\\u2014 Rumi Jalalud-Din. \\\\\"Adventure is worthwhile.\\\\\" \\\\u2014 Aesop. \\\\\"Travel makes one modest. You see what a tiny place you occupy in ...\"}], \"Meghalaya travel experiences\": [{\"url\": \"https://www.meghalayatourism.in/itineraries/\", \"content\": \"Explore Meghalaya with curated itineraries by Meghalaya Tourism. Plan your perfect journey, discover key attractions, and make the most of your visit. ... With a blend of cultural experiences, scenic sights, and exciting activities, this itinerary is the perfect way to make the most of your limited time. So pack your bags, grab your camera, and ...\"}, {\"url\": \"https://www.tripadvisor.in/Attractions-g297657-Activities-Meghalaya.html\", \"content\": \"Must-do experiences in Meghalaya. Book these experiences for a close-up look at Meghalaya. See all. 6D/5N Assam & Meghalaya. 42. 4WD Tours. from \\\\u20b947,734. ... Opt for weekend travel from Shillong, as heavy trucks are restricted, ensuring a smoother journey. Read more. Review of: Krang Suri Falls.\"}, {\"url\": \"https://www.holidify.com/pages/meghalaya-itinerary-6771.html\", \"content\": \"Meghalaya Travel Packages . Compare quotes from upto 3 travel agents for free . 7 Days / 6 Nights. Magical Meghalaya Tour Package \\\\u20b9 26,250. ... 6 Meghalaya Festivals That You Must Experience in Your Next Visit! Travelogue. The Secrets of the Monoliths in Meghalaya #TWC. Best Places to Visit in Meghalaya.\"}, {\"url\": \"https://mountainsandmahals.com/meghalaya-itinerary/\", \"content\": \"Meghalaya is a unique travel destination with lots of hidden gems and beautiful landscapes to explore. There\\'s so many amazing places, landmarks, and historical sites to see in Meghalaya. TL;DR: Best Meghalaya Itinerary: 1 week and 10 day. Whether you have one week or more in Meghalaya, nature lovers and adventure seekers will have plenty to ...\"}, {\"url\": \"https://ankitapoddar.com/7-days-the-ultimate-offbeat-meghalaya-trip-plan/\", \"content\": \"Though I feel that exploring offbeat Meghalaya can create memorable experiences that can bring a twist to your travel stories. So, here is the offbeat Meghalaya trip plan itinerary that can help you to explore Meghalaya within 7 days. ... Day 7 - Travel back to Shillong and Guwahati and West Bengal. Offbeat Meghalaya Trip Plan DAY 1 ...\"}]}', id='285449e4-7f4d-4982-81b7-9e130c4d2382', tool_call_id='call_CrqCuQiSfziq5j9iqxnDOKef'), AIMessage(content='', additional_kwargs={'tool_calls': [{'id': 'call_OOS9WNC9IbgQWT2W7XGFR3XA', 'function': {'arguments': '{\"answer\":\"🌄✨ Just back from an unforgettable trip to Meghalaya! From the stunning hills to the enchanting waterfalls, every moment felt like a dream. 💚💦 The living root bridges were a highlight, showcasing nature\\'s artistry. Exploring local culture and savoring traditional food made this journey even more special. Can\\'t wait to share more memories from this beautiful state! #MeghalayaDiaries #NatureLovers #TravelGoals\",\"reflection\":{\"missing\":\"The caption could benefit from more personal anecdotes or specific experiences to enhance relatability.\",\"superfluous\":\"Some emojis were removed to streamline the caption, making it more focused.\"},\"search_queries\":[\"best Instagram captions for travel\",\"how to write engaging travel captions\",\"Meghalaya travel experiences\"]}', 'name': 'ReviseAns'}, 'type': 'function'}], 'refusal': None}, response_metadata={'token_usage': {'completion_tokens': 150, 'prompt_tokens': 5318, 'total_tokens': 5468, 'completion_tokens_details': None, 'prompt_tokens_details': None}, 'model_name': 'gpt-4o-mini', 'system_fingerprint': 'fp_878413d04d', 'finish_reason': 'stop', 'logprobs': None, 'content_filter_results': {}}, id='run-d93b839f-86ff-4017-9b01-6478445306fb-0', tool_calls=[{'name': 'ReviseAns', 'args': {'answer': \"🌄✨ Just back from an unforgettable trip to Meghalaya! From the stunning hills to the enchanting waterfalls, every moment felt like a dream. 💚💦 The living root bridges were a highlight, showcasing nature's artistry. Exploring local culture and savoring traditional food made this journey even more special. Can't wait to share more memories from this beautiful state! #MeghalayaDiaries #NatureLovers #TravelGoals\", 'reflection': {'missing': 'The caption could benefit from more personal anecdotes or specific experiences to enhance relatability.', 'superfluous': 'Some emojis were removed to streamline the caption, making it more focused.'}, 'search_queries': ['best Instagram captions for travel', 'how to write engaging travel captions', 'Meghalaya travel experiences']}, 'id': 'call_OOS9WNC9IbgQWT2W7XGFR3XA', 'type': 'tool_call'}], usage_metadata={'input_tokens': 5318, 'output_tokens': 150, 'total_tokens': 5468, 'input_token_details': {}, 'output_token_details': {}})] --------------------\n",
      "\n",
      "\n",
      "\n",
      "🌄✨ Just back from an unforgettable trip to Meghalaya! From the stunning hills to the enchanting waterfalls, every moment felt like a dream. 💚💦 The living root bridges were a highlight, showcasing nature's artistry. Exploring local culture and savoring traditional food made this journey even more special. Can't wait to share more memories from this beautiful state! #MeghalayaDiaries #NatureLovers #TravelGoals\n"
     ]
    }
   ],
   "source": [
    "print(\"Whole Result Object -\", res,\"--------------------\\n\\n\\n\")\n",
    "print(res[-1].tool_calls[0][\"args\"][\"answer\"])"
   ]
  },
  {
   "cell_type": "code",
   "execution_count": null,
   "metadata": {},
   "outputs": [],
   "source": []
  }
 ],
 "metadata": {
  "kernelspec": {
   "display_name": "Python 3",
   "language": "python",
   "name": "python3"
  },
  "language_info": {
   "codemirror_mode": {
    "name": "ipython",
    "version": 3
   },
   "file_extension": ".py",
   "mimetype": "text/x-python",
   "name": "python",
   "nbconvert_exporter": "python",
   "pygments_lexer": "ipython3",
   "version": "3.11.9"
  }
 },
 "nbformat": 4,
 "nbformat_minor": 2
}
