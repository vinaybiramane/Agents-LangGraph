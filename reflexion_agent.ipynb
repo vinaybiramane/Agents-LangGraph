{
 "cells": [
  {
   "cell_type": "code",
   "execution_count": 1,
   "metadata": {},
   "outputs": [],
   "source": [
    "import datetime\n",
    "from dotenv import load_dotenv, find_dotenv\n",
    "load_dotenv(find_dotenv(),override=True)\n",
    "\n",
    "from langchain_core.output_parsers.openai_tools import JsonOutputToolsParser, PydanticToolsParser\n",
    "from langchain_core.messages import HumanMessage\n",
    "from langchain_core.prompts import ChatPromptTemplate, MessagesPlaceholder\n",
    "from langchain_openai import AzureChatOpenAI"
   ]
  },
  {
   "cell_type": "code",
   "execution_count": 2,
   "metadata": {},
   "outputs": [],
   "source": [
    "actor_prompt_template = ChatPromptTemplate.from_messages(\n",
    "    [\n",
    "        (\n",
    "            \"system\",\n",
    "            \"\"\"\n",
    "            You are a viral Instagram influencer assistant tasked with writing excellent, catchy Instagram post captions.\n",
    "            Current time : {time}\n",
    "            1.{first_instruction}\n",
    "            2.Critique your answer. Be severe to maximize improvements.\n",
    "            3.Recommend search queries to research information and improve your answer.\n",
    "            \"\"\",\n",
    "        ),\n",
    "        MessagesPlaceholder(variable_name=\"messages\"),\n",
    "        (\"system\", \"Generate a caption for users query above using the required format.\")\n",
    "    ]\n",
    ").partial(time = lambda : datetime.datetime.now().isoformat())"
   ]
  },
  {
   "cell_type": "code",
   "execution_count": 3,
   "metadata": {},
   "outputs": [],
   "source": [
    "llm = AzureChatOpenAI(\n",
    "        azure_deployment=\"gpt-4o-mini\",  # or your deployment\n",
    "        api_version=\"2023-03-15-preview\",  # or your api version\n",
    "        temperature=0)"
   ]
  },
  {
   "cell_type": "code",
   "execution_count": 4,
   "metadata": {},
   "outputs": [
    {
     "name": "stderr",
     "output_type": "stream",
     "text": [
      "C:\\Users\\vinay\\AppData\\Local\\Packages\\PythonSoftwareFoundation.Python.3.11_qbz5n2kfra8p0\\LocalCache\\local-packages\\Python311\\site-packages\\IPython\\core\\interactiveshell.py:3577: LangChainDeprecationWarning: As of langchain-core 0.3.0, LangChain uses pydantic v2 internally. The langchain_core.pydantic_v1 module was a compatibility shim for pydantic v1, and should no longer be used. Please update the code to import from Pydantic directly.\n",
      "\n",
      "For example, replace imports like: `from langchain_core.pydantic_v1 import BaseModel`\n",
      "with: `from pydantic import BaseModel`\n",
      "or the v1 compatibility namespace if you are working in a code base that has not been fully upgraded to pydantic 2 yet. \tfrom pydantic.v1 import BaseModel\n",
      "\n",
      "  exec(code_obj, self.user_global_ns, self.user_ns)\n"
     ]
    }
   ],
   "source": [
    "from typing import List\n",
    "from langchain_core.pydantic_v1 import BaseModel, Field\n",
    "\n",
    "\n",
    "class Reflection(BaseModel):\n",
    "    missing: str = Field(description=\"Critique of what is missing.\")\n",
    "    superfluous: str = Field(description=\"Critique of what is superfluous\")\n",
    "    \n",
    "    \n",
    "class AnQ(BaseModel):\n",
    "    answer : str = Field(description=\"~50 word short caption to the user query.\")\n",
    "    reflection : Reflection = Field(description=\"Your reflection on the initial caption.\")\n",
    "    search_queries : List[str] = Field(\n",
    "        description = \"1-3 search queries for researching improvements to address the critique of your current answer.\"\n",
    "    )\n",
    "    "
   ]
  },
  {
   "cell_type": "code",
   "execution_count": 5,
   "metadata": {},
   "outputs": [],
   "source": [
    "parser = JsonOutputToolsParser(return_id=True)\n",
    "parser_pydantic = PydanticToolsParser(tools=[AnQ])"
   ]
  },
  {
   "cell_type": "code",
   "execution_count": 6,
   "metadata": {},
   "outputs": [],
   "source": [
    "first_responder_prompt_template = actor_prompt_template.partial(\n",
    "    first_instruction = \"Provide a short ~50 word caption.\"\n",
    ")\n",
    "\n",
    "first_responder = first_responder_prompt_template| llm.bind_tools(\n",
    "    tools=[AnQ], tool_choice=\"AnQ\"\n",
    ")\n",
    "\n"
   ]
  },
  {
   "cell_type": "code",
   "execution_count": 7,
   "metadata": {},
   "outputs": [
    {
     "name": "stdout",
     "output_type": "stream",
     "text": [
      "[AnQ(answer='\"Sun, sand, and sea – Goa, you have my heart! 🌊✨ From vibrant markets to serene beaches, every moment is a postcard memory. Can’t wait to share more of this paradise with you all! #GoaDiaries #BeachVibes\"', reflection=Reflection(missing='The caption lacks a personal touch or specific experiences that could make it more relatable and engaging.', superfluous='The use of multiple hashtags could be streamlined to focus on the most relevant ones.'), search_queries=['how to write engaging Instagram captions', 'best practices for Instagram hashtags', 'tips for personalizing travel captions'])]\n"
     ]
    }
   ],
   "source": [
    "human_msg = HumanMessage(\n",
    "    content=\"write caption for Goa vacation pics\"\n",
    ")\n",
    "\n",
    "chain = first_responder | parser_pydantic\n",
    "\n",
    "res = chain.invoke(input = {\"messages\":[human_msg]})\n",
    "print(res)"
   ]
  },
  {
   "cell_type": "code",
   "execution_count": 8,
   "metadata": {},
   "outputs": [],
   "source": [
    "class ReviseAns(AnQ):\n",
    "    answer : str = Field(description=\"~50 word short answer to the question.\")\n",
    "    reflection : Reflection = Field(description=\"Your reflection on the initial answer.\")\n",
    "    search_queries : List[str] = Field(\n",
    "        description = \"1-3 search queries for researching improvements to address the critique of your current answer.\"\n",
    "    )"
   ]
  },
  {
   "cell_type": "code",
   "execution_count": 9,
   "metadata": {},
   "outputs": [],
   "source": [
    "revise_instruction = \"\"\"\n",
    "                    You are a viral Instagram influencer grading a caption for a Instagram post. Generate critique and recommendation for the user's caption.\n",
    "                    Always provide detailed recommendations, including requests for lengths, virality, style, etc. and make sure it is not more than 250 words.\n",
    "                    \"\"\"\n",
    "\n",
    "revisor = actor_prompt_template.partial(\n",
    "    first_instruction = revise_instruction\n",
    ")| llm.bind_tools(\n",
    "    tools=[ReviseAns], tool_choice=\"ReviseAns\"\n",
    ")"
   ]
  },
  {
   "cell_type": "code",
   "execution_count": 10,
   "metadata": {},
   "outputs": [],
   "source": [
    "from langchain_core.messages import BaseMessage, ToolMessage, AIMessage\n",
    "from langgraph.prebuilt import ToolInvocation, ToolExecutor\n",
    "  \n",
    "\n",
    "answer = AnQ(\n",
    "    answer=\"\",\n",
    "    reflection=Reflection(missing=\"\", superfluous=\"\"),\n",
    "    search_queries=[\n",
    "        'best Instagram captions for travel', 'how to write engaging travel captions', 'Goa travel tips and experiences'\n",
    "    ],\n",
    "    id = \"call_xyz\",\n",
    ")"
   ]
  },
  {
   "cell_type": "code",
   "execution_count": 11,
   "metadata": {},
   "outputs": [
    {
     "name": "stderr",
     "output_type": "stream",
     "text": [
      "C:\\Users\\vinay\\AppData\\Local\\Temp\\ipykernel_21508\\3995445223.py:7: LangGraphDeprecationWarning: ToolExecutor is deprecated as of version 0.2.0 and will be removed in 0.3.0. Use langgraph.prebuilt.ToolNode instead.\n",
      "  tool_executor = ToolExecutor([tavily_tools])\n"
     ]
    }
   ],
   "source": [
    "from langchain_community.tools.tavily_search import TavilySearchResults\n",
    "from langchain_community.utilities.tavily_search import TavilySearchAPIWrapper\n",
    "\n",
    "search = TavilySearchAPIWrapper()\n",
    "tavily_tools = TavilySearchResults(api_wrapper =search, max_results = 5)\n",
    "\n",
    "tool_executor = ToolExecutor([tavily_tools])"
   ]
  },
  {
   "cell_type": "code",
   "execution_count": 12,
   "metadata": {},
   "outputs": [],
   "source": [
    "from collections import defaultdict\n",
    "import json\n",
    "\n",
    "def execute_tools(state : List[BaseMessage]) -> List[ToolMessage]:\n",
    "    tools_invocation : AIMessage = state[-1]\n",
    "    parsed_tool_calls = parser.invoke(tools_invocation)\n",
    "    \n",
    "    ids = []\n",
    "    tool_invocations = []\n",
    "    \n",
    "    for parsed_call in parsed_tool_calls:\n",
    "        for query in parsed_call[\"args\"][\"search_queries\"]:\n",
    "            tool_invocations.append(ToolInvocation(\n",
    "                tool = \"tavily_search_results_json\",\n",
    "                tool_input = query,\n",
    "            ))\n",
    "            ids.append(parsed_call[\"id\"]) \n",
    "            \n",
    "    outputs = tool_executor.batch(tool_invocations)\n",
    "    outputs_map = defaultdict(dict)\n",
    "    for id_, output, invocation in zip(ids, outputs, tool_invocations):\n",
    "        outputs_map[id_][invocation.tool_input] = output\n",
    "        \n",
    "    tool_messages = []\n",
    "    for id_, mapped_output in outputs_map.items():\n",
    "        tool_messages.append(ToolMessage(content = json.dumps(mapped_output), tool_call_id=id_))\n",
    "\n",
    "    return tool_messages"
   ]
  },
  {
   "cell_type": "code",
   "execution_count": 13,
   "metadata": {},
   "outputs": [
    {
     "name": "stderr",
     "output_type": "stream",
     "text": [
      "C:\\Users\\vinay\\AppData\\Local\\Temp\\ipykernel_21508\\3970788705.py:13: LangGraphDeprecationWarning: ToolInvocation is deprecated as of version 0.2.0 and will be removed in 0.3.0. Use langgraph.prebuilt.ToolNode instead.\n",
      "  tool_invocations.append(ToolInvocation(\n"
     ]
    }
   ],
   "source": [
    "raw_res = execute_tools(\n",
    "    state=[\n",
    "        human_msg,\n",
    "        AIMessage(\n",
    "            content = \"\",\n",
    "            tool_calls = [\n",
    "                {\n",
    "                    \"name\" : AnQ.__name__,\n",
    "                    \"args\" : answer.dict(),\n",
    "                    \"id\" : \"call_xyz\"\n",
    "                }\n",
    "            ]\n",
    "        )\n",
    "    ]\n",
    ")"
   ]
  },
  {
   "cell_type": "code",
   "execution_count": 14,
   "metadata": {},
   "outputs": [
    {
     "data": {
      "text/plain": [
       "[ToolMessage(content='{\"best Instagram captions for travel\": [{\"url\": \"https://www.thediaryofanomad.com/best-travel-captions-for-instagram/\", \"content\": \"Here are some more best Instagram captions for traveling \\\\u2014 short, catchy, and classic sayings that will inspire wanderlust. These IG travel captions are also perfect for beach and vacation shots. My favorite thing is to go where I\\'ve never been. Born to roam. Everywhere is home. Keep calm and travel on.\"}, {\"url\": \"https://www.adamenfroy.com/travel-instagram-captions\", \"content\": \"Here are the top adventure travel captions to use in your Instagram profile as an adventure seeker: Chasing horizons and dreams. \\\\ud83c\\\\udf04. Adventures are the best way to learn. \\\\ud83d\\\\udcda. Wander where the Wi-Fi is weak. \\\\ud83c\\\\udf32. Seek adventures that open your mind. \\\\ud83d\\\\udd13.\"}, {\"url\": \"https://www.adventureinyou.com/travel-tips/travel-captions-for-instagram/\", \"content\": \"If you want to keep it short and sweet with your travel caption for Instagram, give these one-liners a go. 1. Always take the scenic route. 2. Paradise called, and I answered. 3. Wander often, wonder always. 4. Discovering the world, little by little.\"}, {\"url\": \"https://www.travelandleisure.com/photography/best-travel-vacation-instagram-captions\", \"content\": \"105 Vacation Captions for Your Next Travel-inspired Instagram Post. Enhance your best travel photos with these clever quotes and funny lines \\\\u2014 perfect for any destination.\"}, {\"url\": \"https://gretastravels.com/travel-instagram-captions/\", \"content\": \"1 Inspirational travel quotes for Instagram. 2 Funny travel captions for Instagram. 3 Adventure captions for Instagram. 4 Travel captions for your beach & summer photos. 5 Throwback captions for travel. 6 Family vacation captions. 7 Short travel quotes for Instagram. 8 Road trip instagram captions.\"}], \"how to write engaging travel captions\": [{\"url\": \"https://sarahscoop.com/travel-quotes-for-instagram/\", \"content\": \"Here are more inspiring travel captions: \\\\\"Embrace the unknown and let your wanderlust guide you.\\\\\". \\\\\"Discovering new horizons fuels the soul\\'s desire for adventure.\\\\\". \\\\\"Traveling opens our eyes to the beauty of diversity and unity.\\\\\". \\\\\"Every journey is a chance to learn, grow, and become a better version of ourselves.\\\\\".\"}, {\"url\": \"https://www.adventureinyou.com/travel-tips/travel-captions-for-instagram/\", \"content\": \"If you want to keep it short and sweet with your travel caption for Instagram, give these one-liners a go. 1. Always take the scenic route. 2. Paradise called, and I answered. 3. Wander often, wonder always. 4. Discovering the world, little by little.\"}, {\"url\": \"https://www.adamenfroy.com/travel-instagram-captions\", \"content\": \"Here are the top adventure travel captions to use in your Instagram profile as an adventure seeker: Chasing horizons and dreams. \\\\ud83c\\\\udf04. Adventures are the best way to learn. \\\\ud83d\\\\udcda. Wander where the Wi-Fi is weak. \\\\ud83c\\\\udf32. Seek adventures that open your mind. \\\\ud83d\\\\udd13.\"}, {\"url\": \"https://www.thebrokebackpacker.com/travel-captions-instagram/\", \"content\": \"Use this travel caption for Instagram pictures of you in a fabulous location. Let everyone know that you\\'ve found your paradise and won\\'t be coming back (we\\'ll all pretend it\\'s true). 11. Tropic like it\\'s hot. 12. Vacation vibes. 13. Coddiwomple (v.) - to travel in a purposeful manner towards a vague destination.\"}, {\"url\": \"https://www.goodhousekeeping.com/life/travel/a28917249/travel-instagram-captions/\", \"content\": \"Danielle Carson. \\\\\"Travel brings power and love back into your life.\\\\\" \\\\u2014 Rumi Jalalud-Din. \\\\\"Adventure is worthwhile.\\\\\" \\\\u2014 Aesop. \\\\\"Travel makes one modest. You see what a tiny place you occupy in ...\"}], \"Goa travel tips and experiences\": [{\"url\": \"https://theetlrblog.com/7-day-goa-travel-itinerary-guide/\", \"content\": \"Email Address\\\\nSubscribe\\\\nTravel Itineraries and Guides\\\\n15 Day NORTH EAST INDIA Travel Itinerary\\\\n15 Day EASTERN HIMALAYAS Travel Itinerary\\\\n10 Day SIKKIM Offbeat Travel Itinerary\\\\n7 Day LADAKH Travel Itinerary\\\\n7 Day MANALI Travel Itinerary\\\\n7 Day UTTARAKHAND Road Trip Itinerary\\\\n7 Day ARUNACHAL PRADESH Itinerary and Travel Guide\\\\n7 Day MEGHALAYA Travel Itinerary\\\\n7 Day KOLKATA \\\\u2013 KURSEONG \\\\u2013 DARJEELING Road Trip Itinerary\\\\n7 Day KERALA Road Trip Itinerary\\\\n7 Day GOA Travel Itinerary and Guide\\\\nDZUKOU VALLEY \\\\u2013 Travel Itinerary and Guide\\\\nEVEREST BASE CAMP \\\\u2013 Travel Itinerary and Guide\\\\nNEPAL \\\\u2013 Travel Itinerary and Guide\\\\nDHANGETHI \\\\u2013 Maldives Travel Itinerary and Guide\\\\nUKULHAS \\\\u2013 Itinerary and Maldives Budget Travel Guide\\\\nTAIWAN Travel Guide for First Timers\\\\nITALY Trip Planner\\\\n14 Day NEW ZEALAND Travel Itinerary and Guide\\\\n10 Day PORTUGAL Travel Itinerary\\\\nBest of WESTERN ROMANIA in 10 Days\\\\n10 Day LAOS Travel Itinerary\\\\n9 Day Trip to BALI \\\\u2013 Travel Itinerary and Guide\\\\n7 Day VIETNAM (North & Central) Travel Itinerary\\\\n7 Day NEW YORK CITY Trip Itinerary\\\\n7 Day PHUKET Dive + Travel Itinerary\\\\n7 Day BHUTAN Travel Itinerary\\\\n7 Day MEXICO Travel Guide and Itinerary\\\\n7 Day Ultimate MALAYSIA Travel Itinerary\\\\n7 Day NAIROBI Travel Itinerary\\\\nBest of CAMBODIA in 7 Days \\\\u2013 Travel Itinerary\\\\n7 Days in ARUBA \\\\u2013 Travel Guide and Itinerary\\\\n7 Day OAHU \\\\u2013 HAWAII Travel Itinerary\\\\n7 Day JAPAN Itinerary\\\\n7 Day MYANMAR Travel Itinerary\\\\n7 Day Ultimate SCOTLAND Road Trip Itinerary\\\\n7 Day NETHERLANDS Travel Itinerary\\\\n7 Days in CRETE \\\\u2013 GREECE | Travel Itinerary and Guide\\\\n7 Day VENEZUELA Travel Itinerary and Guide\\\\n7 Day SOUTH AFRICA Trip Itinerary and Guide\\\\n7 Day CAIRNS | AUSTRALIA Travel Itinerary\\\\nAffiliate Program Disclosure\\\\nSome of the pages and posts of this blog contain\\\\nlinks to products and services that may\\\\nbe useful for my readers.\\\\n 7 Day Goa Travel Itinerary \\\\u2013 Summary\\\\nDay 1 \\\\u2013\\\\u00a0Arrival in Goa | Stay in North Goa | Try some local Goan cuisine | Relax by the beach\\\\nDay 2 \\\\u2013\\\\u00a0Explore any of the famous forts \\\\u2013 Aguada / Chapora / Tiracol Fort / Reis Magos Fort | Sundowner at any of the famous Goa Beach Clubs | Attend a Drum Circle\\\\nDay 3 \\\\u2013\\\\u00a0Head to South Goa | Try out local Goan food at any of the Famous Restaurants in Goa | Check in to any of the Best Resorts in South Goa\\\\nDay 4 \\\\u2013\\\\u00a0Discover offbeat locations in South Goa | Explore Cola Beach and Cabo de Rama Beach | Catch a beautiful sunset\\\\nDay 5 \\\\u2013 Visit the Dudhsagar Waterfall | Drive to Salaulim Dam | Visit the Paul John Distillery\\\\nDay 6 \\\\u2013\\\\u00a0Divar Island E \\\\u2013 Bike Tour | Go souvenir shopping | Feni and Tapas Trail\\\\nDay 7 \\\\u2013\\\\u00a0Fontainhas Heritage Trail | Day at leisure | Departure from Goa\\\\nWe hope, that you found this Goa Travel Guide containing the 7 Day Goa Travel Itinerary covering the best of North Goa, South Goa, and Panjim, to be helpful. Contents\\\\nThe Best of Goa \\\\u2013 7 Day Travel Itinerary\\\\nDay 1: Arrival in North Goa\\\\nDay 2: Explore North Goa\\\\nPS \\\\u2013 Useful Travel Resources that will help you plan better for your Trip to Goa\\\\nDay 3: Road Trip from North Goa to South Goa\\\\nDay 4: Discover Offbeat Things to do in South Goa\\\\nDay 5: Dive into South Goa\\\\nDay 6-7: Immerse Yourself in Panjim\\\\nBest Resort in Goa | India\\\\nCoconut Creek Resort | Bogmalo, Goa\\\\nThe highlight of my Trip to Goa has to be the beautiful experience at Coconut Creek Resort Goa, where the staff literally went above and beyond to make my experience memorable.\\\\n This food trail in Goa not only offers a delectable blend of culture and cuisine, allowing you to experience Goa through its flavours, from traditional to contemporary, all in the heart of the historic Latin Quarter; but can turn out to be of the best experiences in Goa during your 7 Day Trip to Goa.\\\\nUse the code \\\\u201cAMMIH10\\\\u201d to get a flat 10% discount on the Feni and Tapas Trail and Fontainhas Heritage Walk and other awesome experiences, such as the Latin Quarter Food Trail, Old Goa Heritage Walk, Campal Heritage Walk, Chronicles of Divar Island with Lunch, among others by Make It Happen Goa.\\\\n\"}, {\"url\": \"https://viacation.com/the-ultimate-goa-trip-itinerary-a-perfect-4-day-getaway/\", \"content\": \"Whether you\\'re a beach lover, history enthusiast, or thrill-seeker, this guide will ensure you experience the best that Goa has to offer. Plus, we\\'ll share tips on the best time to visit Goa and the top things to do in Goa to make the most of your vacation. Day 1: Exploring North Goa\\'s Famous Beaches and Markets Visit Baga, Calangute, and ...\"}, {\"url\": \"https://soultravelindia.com/goa-travel-guide/\", \"content\": \"Our Goa travel guide covers the best of Goa - aka Goa with fewer crowds! Once a hippy-paradise with swaying palms and the occasional coco-hut, Goa is one of India\\'s highlights. Over recent years, though it has become a victim of its own success, and we\\'d heard many reports saying that Goa had been ruined by over tourism and over construction.\"}, {\"url\": \"https://www.global-gallivanting.com/best-ultimate-goa-travel-guide-and-insiders-tips/\", \"content\": \"Candolim lies under the shadow of Fort Aguada and is a more upmarket choice and less crowded but still offers easy access to all the attractions which makes it one of the best places to stay in Goa.\\\\nAnjuna Beach and Vagator Beach have smaller, more rocky beaches but are good for nightlife and where you\\\\u2019ll find Chapora Fort, Anjuna flea market and the infamous Goa psytrance parties and raves as well as other parties to suit all musical tastes and accommodation to suit all budgets.\\\\n Goa Map\\\\nThe Best Beaches and Places to Stay in Goa\\\\nThe best places to stay in Goa are on the beaches and there\\\\u2019s no shortage of choice from busy, party beaches in North Goa to long, quiet stretches of sand in South Goa. The best way to explore Panjim and learn about it\\\\u2019s unique history is with a heritage walking tour\\\\nThe Churches of Old Goa\\\\nThe best place to visit for sightseeing and to learn about the history of Goa are the churches of Old Goa. Enjoy partying in North Goa, relaxing on the beaches in South Goa and take a day trip to Panjim and Old Goa to see everything Goa has to offer in one trip.\\\\nFollow my 3 day Goa itinerary to see all of Goa\\\\u2019s highlights in a short trip.\\\\n I\\\\u2019ve tried to keep this Goa travel guide concise so if you want to know more click on the links for the full article on each topic\\\\nThe Best Time to Visit Goa\\\\nWhen planning a trip to Goa, one of the most important things to consider is when to visit.\\\\n\"}, {\"url\": \"https://goaplans.com/goa-travel-guide/\", \"content\": \"Let our travel guide be your roadmap to adventure. Start planning your Goa tour today and get ready for an unforgettable journey into the heart of this captivating destination. Chapter 1: Getting to Goa. 1.1 By Air: Goa International Airport (Dabolim) is the primary gateway to the state.\"}]}', tool_call_id='call_xyz')]"
      ]
     },
     "execution_count": 14,
     "metadata": {},
     "output_type": "execute_result"
    }
   ],
   "source": [
    "from pprint import pprint\n",
    "\n",
    "raw_res"
   ]
  },
  {
   "cell_type": "code",
   "execution_count": 15,
   "metadata": {},
   "outputs": [],
   "source": [
    "from typing import List\n",
    "from langchain_core.messages import BaseMessage, ToolMessage\n",
    "from langgraph.graph import END, MessageGraph\n"
   ]
  },
  {
   "cell_type": "code",
   "execution_count": 16,
   "metadata": {},
   "outputs": [
    {
     "data": {
      "text/plain": [
       "<langgraph.graph.message.MessageGraph at 0x250ab3c4450>"
      ]
     },
     "execution_count": 16,
     "metadata": {},
     "output_type": "execute_result"
    }
   ],
   "source": [
    "MAX_ITERATIONS=2\n",
    "builder = MessageGraph()\n",
    "builder.add_node(\"draft\", first_responder)\n",
    "builder.add_node(\"execute_tools\",execute_tools)\n",
    "builder.add_node(\"revise\", revisor)\n",
    "builder.add_edge(\"draft\", \"execute_tools\")\n",
    "builder.add_edge(\"execute_tools\", \"revise\")\n"
   ]
  },
  {
   "cell_type": "code",
   "execution_count": 17,
   "metadata": {},
   "outputs": [],
   "source": [
    "def event_loop(state:List[BaseMessage]) -> str:\n",
    "    count_tool_visits = sum(isinstance(item, ToolMessage) for item in state)\n",
    "    num_iterations = count_tool_visits\n",
    "    if num_iterations > MAX_ITERATIONS:\n",
    "        return END\n",
    "    return \"execute_tools\""
   ]
  },
  {
   "cell_type": "code",
   "execution_count": 18,
   "metadata": {},
   "outputs": [
    {
     "data": {
      "text/plain": [
       "<langgraph.graph.message.MessageGraph at 0x250ab3c4450>"
      ]
     },
     "execution_count": 18,
     "metadata": {},
     "output_type": "execute_result"
    }
   ],
   "source": [
    "builder.add_conditional_edges(\"revise\", event_loop)\n",
    "builder.set_entry_point(\"draft\")"
   ]
  },
  {
   "cell_type": "code",
   "execution_count": 19,
   "metadata": {},
   "outputs": [
    {
     "data": {
      "text/html": [
       "\n",
       "        <div class=\"mermaid-d5ba7ced-785e-4cad-b30e-9b755faf09e2\"></div>\n",
       "        <script type=\"module\">\n",
       "            import mermaid from 'https://cdn.jsdelivr.net/npm/mermaid@10.1.0/+esm'\n",
       "            const graphDefinition = '%%{init: {\"flowchart\": {\"curve\": \"linear\"}}}%%\\ngraph TD;\\n\t__start__([<p>__start__</p>]):::first\\n\tdraft(draft)\\n\texecute_tools(execute_tools)\\n\trevise(revise)\\n\t__end__([<p>__end__</p>]):::last\\n\t__start__ --> draft;\\n\tdraft --> execute_tools;\\n\texecute_tools --> revise;\\n\trevise -.-> draft;\\n\trevise -.-> execute_tools;\\n\trevise -.-> __end__;\\n\tclassDef default fill:#f2f0ff,line-height:1.2\\n\tclassDef first fill-opacity:0\\n\tclassDef last fill:#bfb6fc\\n';\n",
       "            const element = document.querySelector('.mermaid-d5ba7ced-785e-4cad-b30e-9b755faf09e2');\n",
       "            const { svg } = await mermaid.render('graphDiv-d5ba7ced-785e-4cad-b30e-9b755faf09e2', graphDefinition);\n",
       "            element.innerHTML = svg;\n",
       "        </script>\n",
       "        "
      ],
      "text/plain": [
       "<mermaid.mermaid.Mermaid at 0x250aabcfc50>"
      ]
     },
     "execution_count": 19,
     "metadata": {},
     "output_type": "execute_result"
    }
   ],
   "source": [
    "from mermaid import Mermaid\n",
    "graph = builder.compile()\n",
    "Mermaid(graph.get_graph().draw_mermaid())"
   ]
  },
  {
   "cell_type": "code",
   "execution_count": 20,
   "metadata": {},
   "outputs": [
    {
     "name": "stderr",
     "output_type": "stream",
     "text": [
      "C:\\Users\\vinay\\AppData\\Local\\Temp\\ipykernel_21508\\3970788705.py:13: LangGraphDeprecationWarning: ToolInvocation is deprecated as of version 0.2.0 and will be removed in 0.3.0. Use langgraph.prebuilt.ToolNode instead.\n",
      "  tool_invocations.append(ToolInvocation(\n",
      "C:\\Users\\vinay\\AppData\\Local\\Temp\\ipykernel_21508\\3970788705.py:13: LangGraphDeprecationWarning: ToolInvocation is deprecated as of version 0.2.0 and will be removed in 0.3.0. Use langgraph.prebuilt.ToolNode instead.\n",
      "  tool_invocations.append(ToolInvocation(\n",
      "C:\\Users\\vinay\\AppData\\Local\\Temp\\ipykernel_21508\\3970788705.py:13: LangGraphDeprecationWarning: ToolInvocation is deprecated as of version 0.2.0 and will be removed in 0.3.0. Use langgraph.prebuilt.ToolNode instead.\n",
      "  tool_invocations.append(ToolInvocation(\n"
     ]
    }
   ],
   "source": [
    "res = graph.invoke(\"Write a instagram post caption for trip photos from north east vacation mainly Assam-Kaziranga-Meghalaya\")"
   ]
  },
  {
   "cell_type": "code",
   "execution_count": 21,
   "metadata": {},
   "outputs": [
    {
     "name": "stdout",
     "output_type": "stream",
     "text": [
      "Whole Result Object - [HumanMessage(content='Write a instagram post caption for trip photos from north east vacation mainly Assam-Kaziranga-Meghalaya', additional_kwargs={}, response_metadata={}, id='d6413a95-7ab7-4a0b-8de1-3c3d30a1e402'), AIMessage(content='', additional_kwargs={'tool_calls': [{'id': 'call_IkHKmKqaDro1GShRvqJH2cgj', 'function': {'arguments': '{\"answer\":\"🌿✨ Exploring the breathtaking beauty of Northeast India! From the lush landscapes of Assam to the wild wonders of Kaziranga and the stunning hills of Meghalaya, every moment was a dream come true. 🦒🌄 Who\\'s ready for an adventure? #NortheastDiaries #TravelGoals\",\"reflection\":{\"missing\":\"The caption lacks a personal touch or specific anecdotes that could engage the audience more deeply. It could also benefit from a call to action or a question to encourage interaction.\",\"superfluous\":\"The use of multiple emojis might feel cluttered; a more selective approach could enhance clarity and focus.\"},\"search_queries\":[\"best Instagram captions for travel\",\"how to engage audience on Instagram\",\"Northeast India travel tips and highlights\"]}', 'name': 'AnQ'}, 'type': 'function'}], 'refusal': None}, response_metadata={'token_usage': {'completion_tokens': 153, 'prompt_tokens': 249, 'total_tokens': 402, 'completion_tokens_details': None, 'prompt_tokens_details': None}, 'model_name': 'gpt-4o-mini', 'system_fingerprint': 'fp_878413d04d', 'finish_reason': 'stop', 'logprobs': None, 'content_filter_results': {}}, id='run-2d35c331-cda1-4fce-b194-89628b6b19d6-0', tool_calls=[{'name': 'AnQ', 'args': {'answer': \"🌿✨ Exploring the breathtaking beauty of Northeast India! From the lush landscapes of Assam to the wild wonders of Kaziranga and the stunning hills of Meghalaya, every moment was a dream come true. 🦒🌄 Who's ready for an adventure? #NortheastDiaries #TravelGoals\", 'reflection': {'missing': 'The caption lacks a personal touch or specific anecdotes that could engage the audience more deeply. It could also benefit from a call to action or a question to encourage interaction.', 'superfluous': 'The use of multiple emojis might feel cluttered; a more selective approach could enhance clarity and focus.'}, 'search_queries': ['best Instagram captions for travel', 'how to engage audience on Instagram', 'Northeast India travel tips and highlights']}, 'id': 'call_IkHKmKqaDro1GShRvqJH2cgj', 'type': 'tool_call'}], usage_metadata={'input_tokens': 249, 'output_tokens': 153, 'total_tokens': 402, 'input_token_details': {}, 'output_token_details': {}}), ToolMessage(content='{\"best Instagram captions for travel\": [{\"url\": \"https://www.thediaryofanomad.com/best-travel-captions-for-instagram/\", \"content\": \"Here are some more best Instagram captions for traveling \\\\u2014 short, catchy, and classic sayings that will inspire wanderlust. These IG travel captions are also perfect for beach and vacation shots. My favorite thing is to go where I\\'ve never been. Born to roam. Everywhere is home. Keep calm and travel on.\"}, {\"url\": \"https://www.adamenfroy.com/travel-instagram-captions\", \"content\": \"Here are the top adventure travel captions to use in your Instagram profile as an adventure seeker: Chasing horizons and dreams. \\\\ud83c\\\\udf04. Adventures are the best way to learn. \\\\ud83d\\\\udcda. Wander where the Wi-Fi is weak. \\\\ud83c\\\\udf32. Seek adventures that open your mind. \\\\ud83d\\\\udd13.\"}, {\"url\": \"https://www.adventureinyou.com/travel-tips/travel-captions-for-instagram/\", \"content\": \"If you want to keep it short and sweet with your travel caption for Instagram, give these one-liners a go. 1. Always take the scenic route. 2. Paradise called, and I answered. 3. Wander often, wonder always. 4. Discovering the world, little by little.\"}, {\"url\": \"https://www.travelandleisure.com/photography/best-travel-vacation-instagram-captions\", \"content\": \"105 Vacation Captions for Your Next Travel-inspired Instagram Post. Enhance your best travel photos with these clever quotes and funny lines \\\\u2014 perfect for any destination.\"}, {\"url\": \"https://thetravelingmoore.com/travelling-captions-for-instagram/\", \"content\": \"57. Concrete jungle adventures. 58. Finding magic in the city\\'s chaos. 59. In a city full of stories, I\\'m writing my own.\\\\\". 60. Every city has a soul; I\\'m here to discover it. 300 City Instagram Captions for Travel Photos and Videos.\"}], \"how to engage audience on Instagram\": [{\"url\": \"https://www.wordstream.com/blog/ws/2022/09/27/how-to-increase-instagram-engagement\", \"content\": \"3. Engage your audience through creative interactive stickers. Instagram has plenty of interactive story stickers you can use to drive engagement with your posts. You can use the stickers in different ways: Use the quiz sticker to ask your followers fun questions, including multiple-choice questions.\"}, {\"url\": \"https://sproutsocial.com/insights/instagram-engagement-rate/\", \"content\": \"Here are some actionable tips to improve your engagement rate on Instagram. 1. Actually engage with your audience. We\\'re starting this list off easy. To drive more engagement from your followers, you need to interact with them. Social media isn\\'t a one-way street. If you want to build an engaged audience, you need to acknowledge your followers.\"}, {\"url\": \"https://www.adobe.com/express/learn/blog/instagram-engagement\", \"content\": \"Create valuable content. Saves and shares are two of the most valuable types of engagement that you can get on Instagram. To snag these unique interactions, offer value on your Instagram account. Create the content that users will want to repeatedly reference and share with their friends\\\\u2014but don\\'t make it a bore.\"}, {\"url\": \"https://buffer.com/library/instagram-engagement/\", \"content\": \"1. Experiment with different content types. You can share content on Instagram in many formats: single-image posts, carousel posts, IGTV, Instagram Reels, and Instagram Stories. Varying your post types gives you a chance to see which formats your audience engages with most often. Brought to you by.\"}, {\"url\": \"https://blog.hootsuite.com/instagram-engagement/\", \"content\": \"With Hootsuite Analytics, you can also:\\\\nTry for free for 30 days\\\\nIf you prefer manual math (why???), read on for the exact formula:\\\\nYour Instagram engagement rate measures the amount of interaction your content earns relative to your followers or reach.\\\\n Plan your posts with ease\\\\nManage incoming messages from multiple social channels\\\\nStay informed about market trends and competitors\\\\nPromote your organic content and manage paid ads\\\\nMeasure your results across all social networks\\\\nIndustry-leading courses and certifications to advance your skills.\\\\n Make it easy on yourself and your team by using a tool like Hootsuite Inbox to share the load among team members, respond to public and private messages all in one place, and set up saved replies to simplify the work of replying to common questions.\\\\n Browse help articles and FAQs\\\\nGet help from our team of experts\\\\nAnswers to all your questions about Hootsuite\\\\n15 Tips for a Better Instagram Engagement Rate [CALCULATOR]\\\\nFeeling overwhelmed by the numbers? Engagement Rate Calculator + Guide for 2024\\\\nEngagement rate is the best way to tell if your audience cares about what you\\\\u2019re posting on social media and what they want to see more of.\\\\n\"}], \"Northeast India travel tips and highlights\": [{\"url\": \"https://beyondwildplaces.com/ultimate-travel-guide-northeast-india/\", \"content\": \"Elisha Updated on December 9, 2021 December 5, 2021 5 Comments on The Ultimate Travel Guide to Northeast India Northeast India is perhaps the country\\'s most underrated and incredible adventure. It\\'s a region that is so often overlooked by travellers because of its complicated past and its highlights are rarely promoted on any travel ...\"}, {\"url\": \"https://www.lonelyplanet.com/articles/best-things-to-do-north-east-india\", \"content\": \"Loktak Lake, one of the largest inland bodies of water in India, is one of the most memorable highlights of the Northeast States. Just an hour from Manipur\\'s capital, Imphal, the landform is known as the \\'floating lake\\' due to the presence of phumdis, large masses of vegetation that float on the lake\\'s surface.\"}, {\"url\": \"https://thirdeyetraveller.com/north-east-india-bucket-list/\", \"content\": \"1. Visit the Kamakhya temple in Guwahati. Guwahati is the gateway to North East India and you\\'ll most likely be starting your North East Indian adventures here. Well, if you only do one thing, make sure it\\'s a visit to the world-famous Kamakhya temple.\"}, {\"url\": \"https://www.worldnomads.com/explore/southern-asia/india/itinerary-for-touring-the-east-of-india\", \"content\": \"Bordered by Myanmar, Bangladesh, Tibet, Bhutan, and Nepal, the region is a mix of cultures, cuisine, religion, and traditions. Note: the best time to travel to this region is between November-April. Days 1-2: Kolkata & Darjeeling, West Bengal State. Days 3-5: Sikkim State. Days 5-11: Assam and Meghalaya States.\"}, {\"url\": \"https://www.myglobalviewpoint.com/most-beautiful-places-in-north-east-india/\", \"content\": \"10. Pelling. Offering panoramic views of the Himalayan range, including the world\\'s third-highest peak, Kanchenjunga, Pelling is a must-visit destination located in the Western part of Sikkim.The vistas here are nothing short of spectacular, making it one of the pretty places in North East India.\"}]}', id='7c436f56-6895-4b0a-9e40-bbf199ec6ff9', tool_call_id='call_IkHKmKqaDro1GShRvqJH2cgj'), AIMessage(content='', additional_kwargs={'tool_calls': [{'id': 'call_WqdiKf9d8TdDUMbMYEd8I9oK', 'function': {'arguments': '{\"answer\":\"🌿✨ Just returned from an unforgettable journey through Northeast India! From the vibrant greens of Assam to the majestic wildlife of Kaziranga and the enchanting hills of Meghalaya, every moment was pure magic. 🦒🌄 What’s your favorite travel memory? #NortheastDiaries #Wanderlust\",\"reflection\":{\"missing\":\"The caption could include more specific experiences or highlights from the trip to create a stronger connection with the audience. A personal story or a unique observation would enhance engagement.\",\"superfluous\":\"The emojis, while fun, could be reduced to maintain focus on the message. A more streamlined approach would improve readability.\"},\"search_queries\":[\"how to write engaging travel captions\",\"Northeast India travel highlights\",\"Instagram engagement tips for travel posts\"]}', 'name': 'ReviseAns'}, 'type': 'function'}], 'refusal': None}, response_metadata={'token_usage': {'completion_tokens': 156, 'prompt_tokens': 2047, 'total_tokens': 2203, 'completion_tokens_details': None, 'prompt_tokens_details': None}, 'model_name': 'gpt-4o-mini', 'system_fingerprint': 'fp_878413d04d', 'finish_reason': 'stop', 'logprobs': None, 'content_filter_results': {}}, id='run-be4f99ae-4ce9-4185-8bd2-03cc66955d1f-0', tool_calls=[{'name': 'ReviseAns', 'args': {'answer': '🌿✨ Just returned from an unforgettable journey through Northeast India! From the vibrant greens of Assam to the majestic wildlife of Kaziranga and the enchanting hills of Meghalaya, every moment was pure magic. 🦒🌄 What’s your favorite travel memory? #NortheastDiaries #Wanderlust', 'reflection': {'missing': 'The caption could include more specific experiences or highlights from the trip to create a stronger connection with the audience. A personal story or a unique observation would enhance engagement.', 'superfluous': 'The emojis, while fun, could be reduced to maintain focus on the message. A more streamlined approach would improve readability.'}, 'search_queries': ['how to write engaging travel captions', 'Northeast India travel highlights', 'Instagram engagement tips for travel posts']}, 'id': 'call_WqdiKf9d8TdDUMbMYEd8I9oK', 'type': 'tool_call'}], usage_metadata={'input_tokens': 2047, 'output_tokens': 156, 'total_tokens': 2203, 'input_token_details': {}, 'output_token_details': {}}), ToolMessage(content='{\"how to write engaging travel captions\": [{\"url\": \"https://sarahscoop.com/travel-quotes-for-instagram/\", \"content\": \"Here are more inspiring travel captions: \\\\\"Embrace the unknown and let your wanderlust guide you.\\\\\". \\\\\"Discovering new horizons fuels the soul\\'s desire for adventure.\\\\\". \\\\\"Traveling opens our eyes to the beauty of diversity and unity.\\\\\". \\\\\"Every journey is a chance to learn, grow, and become a better version of ourselves.\\\\\".\"}, {\"url\": \"https://www.adamenfroy.com/travel-instagram-captions\", \"content\": \"Here are the top adventure travel captions to use in your Instagram profile as an adventure seeker: Chasing horizons and dreams. \\\\ud83c\\\\udf04. Adventures are the best way to learn. \\\\ud83d\\\\udcda. Wander where the Wi-Fi is weak. \\\\ud83c\\\\udf32. Seek adventures that open your mind. \\\\ud83d\\\\udd13.\"}, {\"url\": \"https://www.onetravel.com/going-places/how-to-caption-instagram-travel-pictures/\", \"content\": \"Use Emojis (Sparingly) Emojis are like salt, a little bit goes a long way. Using an emoji or two is a great way to emphasize what you\\'re trying to convey through your caption and photo. They even have emojis specially made for travel, such as national flags or images of cities that can add something fun to an otherwise serious-sounding caption.\"}, {\"url\": \"https://thetravelingmoore.com/travelling-captions-for-instagram/\", \"content\": \"300 City Instagram Captions for Travel Photos and Videos. Short Captions About Nature. 61. Follow the call of the wild. 62. Chasing sunsets. 63. Lost in paradise. 64. Find me where the wild things are. 65. Explore the beauty of the world. 66. Into the wild I go, losing my way, finding my soul. 67. The best views come after the hardest climbs. 68.\"}, {\"url\": \"https://digitaltravelexpert.com/pov-captions-for-your-travel-adventures/\", \"content\": \"15 Solo Travel Captions for Instagram. \\\\\"Finding myself, one city at a time. \\\\ud83c\\\\udf0d \\\\\". \\\\\"Solo adventures: because the best company is me. \\\\ud83d\\\\ude0c\\\\ud83c\\\\udf1f\\\\\". \\\\\"Exploring the world with just my own footsteps. \\\\ud83d\\\\uddfa\\\\ufe0f\\\\ud83d\\\\udc63\\\\\". \\\\\"Chasing sunsets and dreams alone. \\\\ud83c\\\\udf05\\\\ud83d\\\\udcad\\\\\". \\\\\"Lost in the right direction. \\\\ud83c\\\\udf0f\\\\ud83d\\\\uddfa\\\\ufe0f\\\\\". \\\\\"Wander often, wonder always.\"}], \"Northeast India travel highlights\": [{\"url\": \"https://www.lonelyplanet.com/india/northeast-states\", \"content\": \"Highlights of the Seven Sisters: why Northeast India is the place to travel right now. Oct 10, 2019 \\\\u2022 9 min read. From mountain monasteries to rhino-filled national parks, these are the highlights of Northeast India - just make sure you get there before the crowds do.\"}, {\"url\": \"https://beyondwildplaces.com/ultimate-travel-guide-northeast-india/\", \"content\": \"Elisha Updated on December 9, 2021 December 5, 2021 5 Comments on The Ultimate Travel Guide to Northeast India Northeast India is perhaps the country\\'s most underrated and incredible adventure. It\\'s a region that is so often overlooked by travellers because of its complicated past and its highlights are rarely promoted on any travel ...\"}, {\"url\": \"https://www.lonelyplanet.com/articles/best-things-to-do-north-east-india\", \"content\": \"Loktak Lake, one of the largest inland bodies of water in India, is one of the most memorable highlights of the Northeast States. Just an hour from Manipur\\'s capital, Imphal, the landform is known as the \\'floating lake\\' due to the presence of phumdis, large masses of vegetation that float on the lake\\'s surface.\"}, {\"url\": \"https://www.enchantingtravels.com/luxury-travel/highlights-of-north-east-india/\", \"content\": \"1 - 3. Kolkata Highlights:Victoria Memorial, Howrah Bridge, St.John\\'s Church, High Court. The Lalit Great Eastern Taj Bengal. 3 - 6. Darjeeling Highlights:Tiger Hill, View of Hill Kanchenjunga Peak, Ghoom Monastery or Yogachoeling Gompa. New Elgin Hotel Mayfair Darjeeling. 6 - 8.\"}, {\"url\": \"https://www.worldnomads.com/explore/southern-asia/india/itinerary-for-touring-the-east-of-india\", \"content\": \"Bordered by Myanmar, Bangladesh, Tibet, Bhutan, and Nepal, the region is a mix of cultures, cuisine, religion, and traditions. Note: the best time to travel to this region is between November-April. Days 1-2: Kolkata & Darjeeling, West Bengal State. Days 3-5: Sikkim State. Days 5-11: Assam and Meghalaya States.\"}], \"Instagram engagement tips for travel posts\": [{\"url\": \"https://bulk.ly/travel-instagram-engagement/\", \"content\": \"Final Thoughts on Travel Instagram Engagement. Building an Instagram account from scratch can be intimidating, but it doesn\\'t have to be! Following these handy tips and tricks, you should have a unique and professional travel Instagram page set up and ready to display your incredible travel adventures.\"}, {\"url\": \"https://justwandermore.com/travel-content-ideas-for-instagram/\", \"content\": \"This is a list of Instagram travel content posting ideas for almost a whole year. There are 305 TRAVEL Instagram photo and post ideas that will not only help you focus on capturing the perfect shots but also create the most engaging captions. These Instagram travel captions and content ideas can easily be adapted to other lifestyle and blogging ...\"}, {\"url\": \"https://www.hopperhq.com/blog/top-travel-hashtags-to-grow-your-instagram-account/\", \"content\": \"This list of travel hashtags will help you choose the correct hashtags for different kinds of travel posts! Simply copy & paste the hashtags most relevant to your content\\\\u2026 \\\\u2b50\\\\ufe0f More hashtag strategy tips: All-In-One Guide To Instagram Hashtags \\\\u2b50\\\\ufe0f. 1. Most Popular Travel Hashtags 2. Luxury Travel Hashtags 3. Adventure Hashtags 4. Beach ...\"}, {\"url\": \"https://blog.kicksta.co/30-travel-instagram-accounts-you-should-follow/\", \"content\": \"The following thirty travel Instagram bloggers are those you should be following in 2023: 1. @Gypsea_Lust. Veteran travel Instagram blogger @Gypsea_Lust is a twenty-something Australian that spends her days adventuring throughout the world. With a focus on fashionable outfits and a bohemian lifestyle, her travel Instagram features posts of her ...\"}, {\"url\": \"https://worldlyroamer.com/50-travel-questions-that-will-increase-engagement-on-instagram-stories/\", \"content\": \"This is a great question to find out more about another country and its culture.) 15. Name a dish/dessert you keep dreaming about after having it in your travels. (People love talking about food, so be prepared for a lot of engagement on this one!) 16.\"}]}', id='5a5bd5d7-0d34-408b-a2f2-c44c33a74b33', tool_call_id='call_WqdiKf9d8TdDUMbMYEd8I9oK'), AIMessage(content='', additional_kwargs={'tool_calls': [{'id': 'call_P5CgDIqVWptv2vghlN4kHaUh', 'function': {'arguments': '{\"answer\":\"🌄✨ Just wrapped up an incredible adventure in Northeast India! From the lush tea gardens of Assam to the majestic rhinos of Kaziranga and the stunning waterfalls of Meghalaya, every moment was a postcard come to life. 🦒💚 What’s your favorite hidden gem in nature? #NortheastIndia #TravelDiaries\",\"reflection\":{\"missing\":\"The caption could include a specific anecdote or highlight from the trip to make it more relatable and engaging. Personal stories resonate well with followers.\",\"superfluous\":\"The emojis, while adding flair, could be minimized to enhance readability and focus on the message.\"},\"search_queries\":[\"how to write engaging travel captions\",\"Northeast India travel highlights\",\"Instagram engagement tips for travel posts\"]}', 'name': 'ReviseAns'}, 'type': 'function'}], 'refusal': None}, response_metadata={'token_usage': {'completion_tokens': 153, 'prompt_tokens': 3847, 'total_tokens': 4000, 'completion_tokens_details': None, 'prompt_tokens_details': None}, 'model_name': 'gpt-4o-mini', 'system_fingerprint': 'fp_878413d04d', 'finish_reason': 'stop', 'logprobs': None, 'content_filter_results': {}}, id='run-1bc63b37-0d87-4e99-a88b-13ae637430d7-0', tool_calls=[{'name': 'ReviseAns', 'args': {'answer': '🌄✨ Just wrapped up an incredible adventure in Northeast India! From the lush tea gardens of Assam to the majestic rhinos of Kaziranga and the stunning waterfalls of Meghalaya, every moment was a postcard come to life. 🦒💚 What’s your favorite hidden gem in nature? #NortheastIndia #TravelDiaries', 'reflection': {'missing': 'The caption could include a specific anecdote or highlight from the trip to make it more relatable and engaging. Personal stories resonate well with followers.', 'superfluous': 'The emojis, while adding flair, could be minimized to enhance readability and focus on the message.'}, 'search_queries': ['how to write engaging travel captions', 'Northeast India travel highlights', 'Instagram engagement tips for travel posts']}, 'id': 'call_P5CgDIqVWptv2vghlN4kHaUh', 'type': 'tool_call'}], usage_metadata={'input_tokens': 3847, 'output_tokens': 153, 'total_tokens': 4000, 'input_token_details': {}, 'output_token_details': {}}), ToolMessage(content='{\"how to write engaging travel captions\": [{\"url\": \"https://www.adamenfroy.com/travel-instagram-captions\", \"content\": \"The best travel Instagram captions will captivate your audience. Here are the best 107+ captions to use when sharing your travel adventures. ... Using as many of these elements means you\\'ll make your content more engaging and relatable for your audience. ... Writing travel Instagram captions to capture people\\'s emotions is a must. Done ...\"}, {\"url\": \"https://sarahscoop.com/travel-quotes-for-instagram/\", \"content\": \"Writing funny and short adventure travel captions for Instagram involves injecting humor, lightheartedness, and a sense of spontaneity into the captions. Puns, playful references, and witty remarks can add an entertaining and relatable flair to the adventure captions. Examples of witty travel captions for adventure enthusiasts\"}, {\"url\": \"https://www.thediaryofanomad.com/best-travel-captions-for-instagram/\", \"content\": \"If you\\'re really looking to keep your travel captions short and straight to the point, then these short captions for travel photos are for you. Some of them are only 2-3 words long but speak volumes. My sweet escape. The world is waiting. Tired feet, happy heart. One with the clouds. Love at first flight. All good things are wild and free.\"}, {\"url\": \"https://thetravelingmoore.com/travelling-captions-for-instagram/\", \"content\": \"300 City Instagram Captions for Travel Photos and Videos. Short Captions About Nature. 61. Follow the call of the wild. 62. Chasing sunsets. 63. Lost in paradise. 64. Find me where the wild things are. 65. Explore the beauty of the world. 66. Into the wild I go, losing my way, finding my soul. 67. The best views come after the hardest climbs. 68.\"}, {\"url\": \"https://www.mysuitcasejourneys.com/instagram-travel-captions/\", \"content\": \"Viral Instagram Travel Captions. They say writer\\'s block is when your imaginary friends refuse to talk to you or really, it\\'s because writing is hard work and you\\'re just lazy. Regardless of which, Instagram is supposed to be fun and writing captions shouldn\\'t be a chore. Let\\'s dive straight in and help you draft the perfect post!\"}], \"Northeast India travel highlights\": [{\"url\": \"https://www.lonelyplanet.com/india/northeast-states\", \"content\": \"Highlights of the Seven Sisters: why Northeast India is the place to travel right now. Oct 10, 2019 \\\\u2022 9 min read. From mountain monasteries to rhino-filled national parks, these are the highlights of Northeast India - just make sure you get there before the crowds do.\"}, {\"url\": \"https://beyondwildplaces.com/ultimate-travel-guide-northeast-india/\", \"content\": \"Elisha Updated on December 9, 2021 December 5, 2021 5 Comments on The Ultimate Travel Guide to Northeast India Northeast India is perhaps the country\\'s most underrated and incredible adventure. It\\'s a region that is so often overlooked by travellers because of its complicated past and its highlights are rarely promoted on any travel ...\"}, {\"url\": \"https://www.theunexplored.in/blog/7-day-trip-to-northeast-india-the-ultimate-travel-guide/\", \"content\": \"Here\\'s presenting the 7-day trip to Northeast India. Day 1: Arrival in Guwahati, Assam. Begin your journey in the lively city of Guwahati, which serves as the gateway to Northeast India. It is well connected to all the major cities of India. After arriving at Lokpriya Gopinath Bordoloi International Airport, check into your hotel and explore ...\"}, {\"url\": \"https://www.lonelyplanet.com/articles/best-things-to-do-north-east-india\", \"content\": \"Loktak Lake, one of the largest inland bodies of water in India, is one of the most memorable highlights of the Northeast States. Just an hour from Manipur\\'s capital, Imphal, the landform is known as the \\'floating lake\\' due to the presence of phumdis, large masses of vegetation that float on the lake\\'s surface.\"}, {\"url\": \"https://www.worldnomads.com/explore/southern-asia/india/itinerary-for-touring-the-east-of-india\", \"content\": \"Bordered by Myanmar, Bangladesh, Tibet, Bhutan, and Nepal, the region is a mix of cultures, cuisine, religion, and traditions. Note: the best time to travel to this region is between November-April. Days 1-2: Kolkata & Darjeeling, West Bengal State. Days 3-5: Sikkim State. Days 5-11: Assam and Meghalaya States.\"}], \"Instagram engagement tips for travel posts\": [{\"url\": \"https://bulk.ly/travel-instagram-engagement/\", \"content\": \"Final Thoughts on Travel Instagram Engagement. Building an Instagram account from scratch can be intimidating, but it doesn\\'t have to be! Following these handy tips and tricks, you should have a unique and professional travel Instagram page set up and ready to display your incredible travel adventures.\"}, {\"url\": \"https://justwandermore.com/travel-content-ideas-for-instagram/\", \"content\": \"This is a list of Instagram travel content posting ideas for almost a whole year. There are 305 TRAVEL Instagram photo and post ideas that will not only help you focus on capturing the perfect shots but also create the most engaging captions. These Instagram travel captions and content ideas can easily be adapted to other lifestyle and blogging ...\"}, {\"url\": \"https://digitaltravelexpert.com/instagram-travel-content-ideas/\", \"content\": \"25 Creative Instagram Travel Content Ideas. Showcase Authentic Local Experiences: Share snippets of local cuisines, traditional crafts, or unique rituals\\\\u2014offer a glimpse into the authentic essence of the destination. Behind-the-Scenes Tour Previews: Tease upcoming tours with behind-the-scenes sneak peeks, showcasing preparations, guides, and ...\"}, {\"url\": \"https://www.hopperhq.com/blog/top-travel-hashtags-to-grow-your-instagram-account/\", \"content\": \"This list of travel hashtags will help you choose the correct hashtags for different kinds of travel posts! Simply copy & paste the hashtags most relevant to your content\\\\u2026 \\\\u2b50\\\\ufe0f More hashtag strategy tips: All-In-One Guide To Instagram Hashtags \\\\u2b50\\\\ufe0f. 1. Most Popular Travel Hashtags 2. Luxury Travel Hashtags 3. Adventure Hashtags 4. Beach ...\"}, {\"url\": \"https://www.thesavvytraveladvisor.com/post/creating-engaging-instagram-travel-reels\", \"content\": \"Tip 4: Engage and connect by inviting interaction. Creating a great travel reel isn\\'t just about showcasing stunning destinations; it\\'s about creating a two-way street of interaction with your audience. Ask a question: Questions are the simplest yet most effective way to spark engagement.\"}]}', id='9fe541da-68ff-46ea-a362-bc0aa480d2f0', tool_call_id='call_P5CgDIqVWptv2vghlN4kHaUh'), AIMessage(content='', additional_kwargs={'tool_calls': [{'id': 'call_joVYaRXSQSzJDYRHBRXTShBY', 'function': {'arguments': '{\"answer\":\"🌄✨ Just wrapped up an incredible adventure in Northeast India! From the lush tea gardens of Assam to the majestic rhinos of Kaziranga and the stunning waterfalls of Meghalaya, every moment was a postcard come to life. 🦒💚 What’s your favorite hidden gem in nature? #NortheastIndia #TravelDiaries\",\"reflection\":{\"missing\":\"The caption could include a specific anecdote or highlight from the trip to make it more relatable and engaging. Personal stories resonate well with followers.\",\"superfluous\":\"The emojis, while adding flair, could be minimized to enhance readability and focus on the message.\"},\"search_queries\":[\"how to write engaging travel captions\",\"Northeast India travel highlights\",\"Instagram engagement tips for travel posts\"]}', 'name': 'ReviseAns'}, 'type': 'function'}], 'refusal': None}, response_metadata={'token_usage': {'completion_tokens': 153, 'prompt_tokens': 5499, 'total_tokens': 5652, 'completion_tokens_details': None, 'prompt_tokens_details': None}, 'model_name': 'gpt-4o-mini', 'system_fingerprint': 'fp_878413d04d', 'finish_reason': 'stop', 'logprobs': None, 'content_filter_results': {}}, id='run-b69d19fa-c63a-4a1d-b1b7-c7c9d8041238-0', tool_calls=[{'name': 'ReviseAns', 'args': {'answer': '🌄✨ Just wrapped up an incredible adventure in Northeast India! From the lush tea gardens of Assam to the majestic rhinos of Kaziranga and the stunning waterfalls of Meghalaya, every moment was a postcard come to life. 🦒💚 What’s your favorite hidden gem in nature? #NortheastIndia #TravelDiaries', 'reflection': {'missing': 'The caption could include a specific anecdote or highlight from the trip to make it more relatable and engaging. Personal stories resonate well with followers.', 'superfluous': 'The emojis, while adding flair, could be minimized to enhance readability and focus on the message.'}, 'search_queries': ['how to write engaging travel captions', 'Northeast India travel highlights', 'Instagram engagement tips for travel posts']}, 'id': 'call_joVYaRXSQSzJDYRHBRXTShBY', 'type': 'tool_call'}], usage_metadata={'input_tokens': 5499, 'output_tokens': 153, 'total_tokens': 5652, 'input_token_details': {}, 'output_token_details': {}})] --------------------\n",
      "\n",
      "\n",
      "\n",
      "🌄✨ Just wrapped up an incredible adventure in Northeast India! From the lush tea gardens of Assam to the majestic rhinos of Kaziranga and the stunning waterfalls of Meghalaya, every moment was a postcard come to life. 🦒💚 What’s your favorite hidden gem in nature? #NortheastIndia #TravelDiaries\n"
     ]
    }
   ],
   "source": [
    "print(\"Whole Result Object -\", res,\"--------------------\\n\\n\\n\")\n",
    "print(res[-1].tool_calls[0][\"args\"][\"answer\"])"
   ]
  },
  {
   "cell_type": "code",
   "execution_count": 22,
   "metadata": {},
   "outputs": [
    {
     "ename": "SyntaxError",
     "evalue": "invalid character '🌄' (U+1F304) (3358457566.py, line 1)",
     "output_type": "error",
     "traceback": [
      "\u001b[1;36m  Cell \u001b[1;32mIn[22], line 1\u001b[1;36m\u001b[0m\n\u001b[1;33m    🌄✨ Just returned from an incredible journey through North East India! From the lush tea gardens of Assam to the wild beauty of Kaziranga National Park, every moment was a highlight. 🦒🌿\u001b[0m\n\u001b[1;37m    ^\u001b[0m\n\u001b[1;31mSyntaxError\u001b[0m\u001b[1;31m:\u001b[0m invalid character '🌄' (U+1F304)\n"
     ]
    }
   ],
   "source": [
    "\n",
    "🌄✨ Just returned from an incredible journey through North East India! From the lush tea gardens of Assam to the wild beauty of Kaziranga National Park, every moment was a highlight. 🦒🌿 \n",
    "\n",
    "Exploring Meghalaya's stunning waterfalls and unique living root bridges was a dream come true! 🌧️💚 I was particularly captivated by the local cuisine, especially the spicy fish curry and traditional rice dishes. \n",
    "\n",
    "Grateful for the wildlife encounters, like spotting the majestic one-horned rhino up close, and the breathtaking landscapes that remind us of nature's artistry. Can't wait to share more memories from this adventure! 📸❤️ #NortheastIndia #Assam #Kaziranga #Meghalaya #TravelDiaries #NatureLovers #AdventureAwaits"
   ]
  }
 ],
 "metadata": {
  "kernelspec": {
   "display_name": "Python 3",
   "language": "python",
   "name": "python3"
  },
  "language_info": {
   "codemirror_mode": {
    "name": "ipython",
    "version": 3
   },
   "file_extension": ".py",
   "mimetype": "text/x-python",
   "name": "python",
   "nbconvert_exporter": "python",
   "pygments_lexer": "ipython3",
   "version": "3.11.9"
  }
 },
 "nbformat": 4,
 "nbformat_minor": 2
}
