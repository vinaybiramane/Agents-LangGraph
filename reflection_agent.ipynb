{
 "cells": [
  {
   "cell_type": "code",
   "execution_count": 23,
   "metadata": {},
   "outputs": [],
   "source": [
    "# loading the OpenAI API key\n",
    "from dotenv import load_dotenv, find_dotenv\n",
    "load_dotenv(find_dotenv(), override=True)\n",
    "\n",
    "from typing import List, Sequence\n",
    "from langchain_core.prompts import ChatPromptTemplate, MessagesPlaceholder\n",
    "from langchain_core.messages import BaseMessage, HumanMessage\n",
    "from langgraph.graph import END, MessageGraph\n",
    "\n",
    "from langchain_openai import AzureChatOpenAI\n"
   ]
  },
  {
   "cell_type": "code",
   "execution_count": 13,
   "metadata": {},
   "outputs": [],
   "source": [
    "reflection_prompt = ChatPromptTemplate.from_messages(\n",
    "    [\n",
    "        (\n",
    "            \"system\",\n",
    "            \"You are a viral Instagram influencer grading a caption for a Instagram post. Generate critique and recommendation for the user's caption.\"\n",
    "            \"Always provide detailed recommendations, including requests for lengths, virality, style, etc.\"\n",
    "        ),\n",
    "        MessagesPlaceholder(variable_name=\"messages\")\n",
    "    ]\n",
    ")\n",
    "\n",
    "generation_prompt = ChatPromptTemplate.from_messages(\n",
    "    [\n",
    "        (\n",
    "            \"system\",\n",
    "            \"You are a viral Instagram influencer assistant tasked with writing excellent, catchy Instagram post captions\"\n",
    "            \"Generate the best Instagram caption possible for the user's request.\"\n",
    "            \"If the user provides critique, respond with a revised version of your previous attempts.\",\n",
    "        ),\n",
    "        MessagesPlaceholder(variable_name=\"messages\")\n",
    "    ]\n",
    ")\n"
   ]
  },
  {
   "cell_type": "code",
   "execution_count": 21,
   "metadata": {},
   "outputs": [],
   "source": [
    "llm = AzureChatOpenAI(\n",
    "        azure_deployment=\"gpt-4o-mini\",  # or your deployment\n",
    "        api_version=\"2023-03-15-preview\",  # or your api version\n",
    "        temperature=0)"
   ]
  },
  {
   "cell_type": "code",
   "execution_count": 22,
   "metadata": {},
   "outputs": [],
   "source": [
    "generate_chain = generation_prompt | llm \n",
    "reflect_chain = reflection_prompt | llm "
   ]
  },
  {
   "cell_type": "code",
   "execution_count": 7,
   "metadata": {},
   "outputs": [],
   "source": [
    "REFLECT = 'reflect'\n",
    "GENERATE = 'generate'"
   ]
  },
  {
   "cell_type": "code",
   "execution_count": 24,
   "metadata": {},
   "outputs": [],
   "source": [
    "def generation_node(state : Sequence[BaseMessage]):\n",
    "    return generate_chain.invoke({\"messages\" : state})"
   ]
  },
  {
   "cell_type": "code",
   "execution_count": 25,
   "metadata": {},
   "outputs": [],
   "source": [
    "def reflection_node(state : Sequence[BaseMessage]) -> List[BaseMessage]:\n",
    "    res = reflect_chain.invoke({\"messages\" : state})\n",
    "    return [HumanMessage(content=res.content)]"
   ]
  },
  {
   "cell_type": "code",
   "execution_count": 26,
   "metadata": {},
   "outputs": [],
   "source": [
    "def should_continue(state :List[BaseMessage]):\n",
    "    if len(state) > 6:\n",
    "        return END\n",
    "    return REFLECT"
   ]
  },
  {
   "cell_type": "code",
   "execution_count": 40,
   "metadata": {},
   "outputs": [
    {
     "data": {
      "text/html": [
       "\n",
       "        <div class=\"mermaid-c3968376-86a2-4ad5-816d-b856c8d36acc\"></div>\n",
       "        <script type=\"module\">\n",
       "            import mermaid from 'https://cdn.jsdelivr.net/npm/mermaid@10.1.0/+esm'\n",
       "            const graphDefinition = '%%{init: {\"flowchart\": {\"curve\": \"linear\"}}}%%\\ngraph TD;\\n\t__start__([<p>__start__</p>]):::first\\n\tgenerate(generate)\\n\treflect(reflect)\\n\t__end__([<p>__end__</p>]):::last\\n\t__start__ --> generate;\\n\treflect --> generate;\\n\tgenerate -.-> reflect;\\n\tgenerate -.-> __end__;\\n\tclassDef default fill:#f2f0ff,line-height:1.2\\n\tclassDef first fill-opacity:0\\n\tclassDef last fill:#bfb6fc\\n';\n",
       "            const element = document.querySelector('.mermaid-c3968376-86a2-4ad5-816d-b856c8d36acc');\n",
       "            const { svg } = await mermaid.render('graphDiv-c3968376-86a2-4ad5-816d-b856c8d36acc', graphDefinition);\n",
       "            element.innerHTML = svg;\n",
       "        </script>\n",
       "        "
      ],
      "text/plain": [
       "<mermaid.mermaid.Mermaid at 0x1497579b090>"
      ]
     },
     "execution_count": 40,
     "metadata": {},
     "output_type": "execute_result"
    }
   ],
   "source": [
    "from mermaid import Mermaid\n",
    "\n",
    "builder = MessageGraph()\n",
    "builder.add_node(GENERATE, generation_node)\n",
    "builder.add_node(REFLECT, reflection_node)\n",
    "builder.set_entry_point(GENERATE)\n",
    "builder.add_conditional_edges(GENERATE,should_continue)\n",
    "builder.add_edge(REFLECT, GENERATE)\n",
    "\n",
    "graph = builder.compile()\n",
    "\n",
    "Mermaid(graph.get_graph().draw_mermaid())"
   ]
  },
  {
   "cell_type": "code",
   "execution_count": 41,
   "metadata": {},
   "outputs": [],
   "source": [
    "input = HumanMessage(content=\"Write a instagram post caption for trip photos from meghalaya vacation\")"
   ]
  },
  {
   "cell_type": "code",
   "execution_count": 42,
   "metadata": {},
   "outputs": [
    {
     "data": {
      "text/plain": [
       "[HumanMessage(content='Write a instagram post caption for trip photos from meghalaya vacation', additional_kwargs={}, response_metadata={}, id='172fc124-764a-4b76-b184-aed7daa85683'),\n",
       " AIMessage(content='\"Chasing waterfalls and clouds in the enchanting hills of Meghalaya! 🌧️✨ From breathtaking views to hidden gems, every moment felt like a dream. Who\\'s ready to explore this paradise with me? 🌿💚 #MeghalayaDiaries #Wanderlust\"', additional_kwargs={'refusal': None}, response_metadata={'token_usage': {'completion_tokens': 56, 'prompt_tokens': 65, 'total_tokens': 121, 'completion_tokens_details': None, 'prompt_tokens_details': None}, 'model_name': 'gpt-4o-mini', 'system_fingerprint': 'fp_878413d04d', 'finish_reason': 'stop', 'logprobs': None, 'content_filter_results': {}}, id='run-5e70d51e-7303-4a84-bb2b-38bc1edbbfc6-0', usage_metadata={'input_tokens': 65, 'output_tokens': 56, 'total_tokens': 121, 'input_token_details': {}, 'output_token_details': {}}),\n",
       " HumanMessage(content='**Caption Critique:**\\n\\nYour caption has a lovely start with vivid imagery and a sense of adventure! However, it could be enhanced to boost engagement and virality. Here are some detailed recommendations:\\n\\n1. **Length**: Aim for a caption that’s a bit longer to tell a story. Instagram users love a narrative that draws them in. Consider adding a personal anecdote or a fun fact about Meghalaya.\\n\\n2. **Emojis**: While you’ve used a few, try to sprinkle in more relevant emojis to break up the text and add visual interest. For example, use 🌄 for mountains, 💦 for waterfalls, or 🗺️ for exploration.\\n\\n3. **Call to Action**: Encourage engagement by asking a question or prompting your followers to share their experiences. This can increase comments and interactions.\\n\\n4. **Hashtags**: You have a couple of good hashtags, but consider adding more specific ones related to travel, Meghalaya, or nature. This can help reach a broader audience. Aim for 5-10 relevant hashtags.\\n\\n5. **Style**: Keep the tone conversational and relatable. You want your followers to feel like they’re part of your journey.\\n\\n**Revised Caption Example**:\\n\\n\"Just spent an unforgettable week in the breathtaking hills of Meghalaya! 🌄✨ From chasing the stunning Nohkalikai Falls 💦 to wandering through the lush living root bridges 🌿, every moment was pure magic. Did you know Meghalaya is one of the wettest places on Earth? 🌧️ I can see why! What’s your favorite travel destination? Let’s swap stories! 🗺️💚 #MeghalayaDiaries #Wanderlust #TravelGoals #NatureLovers #ExploreMore\"\\n\\nThis revised caption is longer, more engaging, and encourages interaction while maintaining a vibrant and adventurous tone. Happy posting! 🌟', additional_kwargs={}, response_metadata={}, id='20353998-80d6-4ed6-83ea-bc86a0919cdd'),\n",
       " AIMessage(content='\"Just spent an unforgettable week in the breathtaking hills of Meghalaya! 🌄✨ From chasing the stunning Nohkalikai Falls 💦 to wandering through the lush living root bridges 🌿, every moment was pure magic. Did you know Meghalaya is one of the wettest places on Earth? 🌧️ I can see why! What’s your favorite travel destination? Let’s swap stories! 🗺️💚 #MeghalayaDiaries #Wanderlust #TravelGoals #NatureLovers #ExploreMore #IncredibleIndia #AdventureAwaits #HiddenGems\" \\n\\nHow does this version resonate with you? 🌟', additional_kwargs={'refusal': None}, response_metadata={'token_usage': {'completion_tokens': 128, 'prompt_tokens': 506, 'total_tokens': 634, 'completion_tokens_details': None, 'prompt_tokens_details': None}, 'model_name': 'gpt-4o-mini', 'system_fingerprint': 'fp_878413d04d', 'finish_reason': 'stop', 'logprobs': None, 'content_filter_results': {}}, id='run-ba3422ea-72b8-4cf5-bd78-5faad2b65cd1-0', usage_metadata={'input_tokens': 506, 'output_tokens': 128, 'total_tokens': 634, 'input_token_details': {}, 'output_token_details': {}}),\n",
       " HumanMessage(content='**Caption Critique:**\\n\\nYour revised caption is looking great! It captures the essence of your Meghalaya trip while inviting engagement. Here are a few more detailed recommendations to further enhance it:\\n\\n1. **Length**: The length is perfect! It tells a story while remaining concise. Just ensure it doesn’t feel too long; keep it engaging throughout.\\n\\n2. **Emojis**: You’ve added a nice variety of emojis that complement the text. Consider using a few more to emphasize specific experiences, like 🌈 for rainbows or 🥾 for hiking.\\n\\n3. **Call to Action**: The question about favorite travel destinations is excellent! It encourages followers to share their experiences, which can boost comments and interactions.\\n\\n4. **Hashtags**: You’ve included a solid mix of hashtags. Aim for a balance between popular and niche hashtags to maximize reach. You might also consider adding a location tag for Meghalaya to attract local followers.\\n\\n5. **Style**: The conversational tone is spot on! It feels relatable and inviting, which is key for engagement.\\n\\n**Final Revised Caption Example**:\\n\\n\"Just spent an unforgettable week in the breathtaking hills of Meghalaya! 🌄✨ From chasing the stunning Nohkalikai Falls 💦 to wandering through the lush living root bridges 🌿, every moment was pure magic. Did you know Meghalaya is one of the wettest places on Earth? 🌧️ I can see why! What’s your favorite travel destination? Let’s swap stories! 🗺️💚 #MeghalayaDiaries #Wanderlust #TravelGoals #NatureLovers #ExploreMore #IncredibleIndia #AdventureAwaits #HiddenGems #TravelAddict\"\\n\\nThis version maintains your engaging narrative while enhancing visual appeal and interaction potential. Happy posting! 🌟', additional_kwargs={}, response_metadata={}, id='c4589e05-7b80-4e37-bdf8-15d11dacd488'),\n",
       " AIMessage(content='\"Just spent an unforgettable week in the breathtaking hills of Meghalaya! 🌄✨ From chasing the stunning Nohkalikai Falls 💦 to wandering through the lush living root bridges 🌿, every moment was pure magic. Did you know Meghalaya is one of the wettest places on Earth? 🌧️ I can see why! What’s your favorite travel destination? Let’s swap stories! 🗺️💚 #MeghalayaDiaries #Wanderlust #TravelGoals #NatureLovers #ExploreMore #IncredibleIndia #AdventureAwaits #HiddenGems #TravelAddict #HikingAdventures\"\\n\\nHow does this final version feel? Ready to share your adventure? 🌟', additional_kwargs={'refusal': None}, response_metadata={'token_usage': {'completion_tokens': 141, 'prompt_tokens': 1003, 'total_tokens': 1144, 'completion_tokens_details': None, 'prompt_tokens_details': None}, 'model_name': 'gpt-4o-mini', 'system_fingerprint': 'fp_878413d04d', 'finish_reason': 'stop', 'logprobs': None, 'content_filter_results': {}}, id='run-80a5de92-71ec-4e5a-bc1b-59fbaa4ce363-0', usage_metadata={'input_tokens': 1003, 'output_tokens': 141, 'total_tokens': 1144, 'input_token_details': {}, 'output_token_details': {}}),\n",
       " HumanMessage(content='**Caption Critique:**\\n\\nYour final caption is vibrant and engaging! It effectively captures the essence of your Meghalaya trip while inviting interaction. Here are a few more detailed recommendations to polish it even further:\\n\\n1. **Length**: The length is just right! It tells a compelling story without overwhelming the reader. \\n\\n2. **Emojis**: You’ve used a great variety of emojis that enhance the visual appeal. Consider adding a few more specific ones, like 🥾 for hiking or 🌈 if you encountered any rainbows, to add even more personality.\\n\\n3. **Call to Action**: The question about favorite travel destinations is excellent! It encourages followers to share their experiences, which can boost comments and interactions. You might also consider adding a prompt for followers to tag someone they’d want to travel with.\\n\\n4. **Hashtags**: You have a solid mix of hashtags. To maximize reach, consider adding a few more niche hashtags related to Meghalaya or specific activities (like #WaterfallChasing or #RootBridges). \\n\\n5. **Style**: The conversational tone is spot on! It feels relatable and inviting, which is key for engagement. \\n\\n**Final Revised Caption Example**:\\n\\n\"Just spent an unforgettable week in the breathtaking hills of Meghalaya! 🌄✨ From chasing the stunning Nohkalikai Falls 💦 to wandering through the lush living root bridges 🌿, every moment was pure magic. Did you know Meghalaya is one of the wettest places on Earth? 🌧️ I can see why! What’s your favorite travel destination? Tag someone you’d love to explore with! 🗺️💚 #MeghalayaDiaries #Wanderlust #TravelGoals #NatureLovers #ExploreMore #IncredibleIndia #AdventureAwaits #HiddenGems #TravelAddict #WaterfallChasing\"\\n\\nThis version maintains your engaging narrative while enhancing visual appeal and interaction potential. Happy posting! 🌟', additional_kwargs={}, response_metadata={}, id='2486ab56-b5e2-4d44-a927-769d1b8d421e'),\n",
       " AIMessage(content='\"Just spent an unforgettable week in the breathtaking hills of Meghalaya! 🌄✨ From chasing the stunning Nohkalikai Falls 💦 to wandering through the lush living root bridges 🌿, every moment was pure magic. Did you know Meghalaya is one of the wettest places on Earth? 🌧️ I can see why! What’s your favorite travel destination? Tag someone you’d love to explore with! 🗺️💚 #MeghalayaDiaries #Wanderlust #TravelGoals #NatureLovers #ExploreMore #IncredibleIndia #AdventureAwaits #HiddenGems #TravelAddict #WaterfallChasing\"\\n\\nHow does this final version resonate with you? Ready to inspire your followers? 🌟', additional_kwargs={'refusal': None}, response_metadata={'token_usage': {'completion_tokens': 147, 'prompt_tokens': 1545, 'total_tokens': 1692, 'completion_tokens_details': None, 'prompt_tokens_details': None}, 'model_name': 'gpt-4o-mini', 'system_fingerprint': 'fp_878413d04d', 'finish_reason': 'stop', 'logprobs': None, 'content_filter_results': {}}, id='run-82c0de6a-d5b4-4960-9246-f6e7aa6dbcc2-0', usage_metadata={'input_tokens': 1545, 'output_tokens': 147, 'total_tokens': 1692, 'input_token_details': {}, 'output_token_details': {}})]"
      ]
     },
     "execution_count": 42,
     "metadata": {},
     "output_type": "execute_result"
    }
   ],
   "source": [
    "graph.invoke(input)"
   ]
  },
  {
   "cell_type": "code",
   "execution_count": null,
   "metadata": {},
   "outputs": [],
   "source": []
  }
 ],
 "metadata": {
  "kernelspec": {
   "display_name": "Python 3",
   "language": "python",
   "name": "python3"
  },
  "language_info": {
   "codemirror_mode": {
    "name": "ipython",
    "version": 3
   },
   "file_extension": ".py",
   "mimetype": "text/x-python",
   "name": "python",
   "nbconvert_exporter": "python",
   "pygments_lexer": "ipython3",
   "version": "3.11.9"
  }
 },
 "nbformat": 4,
 "nbformat_minor": 2
}
